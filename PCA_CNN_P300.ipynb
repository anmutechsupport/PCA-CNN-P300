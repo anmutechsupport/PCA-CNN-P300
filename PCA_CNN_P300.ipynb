{
  "nbformat": 4,
  "nbformat_minor": 0,
  "metadata": {
    "colab": {
      "name": "PCA-CNN P300",
      "provenance": [],
      "collapsed_sections": [],
      "include_colab_link": true
    },
    "kernelspec": {
      "name": "python3",
      "display_name": "Python 3"
    },
    "language_info": {
      "name": "python"
    }
  },
  "cells": [
    {
      "cell_type": "markdown",
      "metadata": {
        "id": "view-in-github",
        "colab_type": "text"
      },
      "source": [
        "<a href=\"https://colab.research.google.com/github/anmutechsupport/PCA-CNN-P300/blob/main/PCA_CNN_P300.ipynb\" target=\"_parent\"><img src=\"https://colab.research.google.com/assets/colab-badge.svg\" alt=\"Open In Colab\"/></a>"
      ]
    },
    {
      "cell_type": "code",
      "metadata": {
        "id": "LnxigHwOJV3G"
      },
      "source": [
        "pip install tensorflow_transform"
      ],
      "execution_count": null,
      "outputs": []
    },
    {
      "cell_type": "code",
      "metadata": {
        "id": "iebh74wcPHx1"
      },
      "source": [
        "import matplotlib.pyplot as plt\n",
        "import tensorflow as tf\n",
        "from tensorflow.keras import datasets, layers, models\n",
        "from tensorflow.keras.layers import Input, Conv2D, Dense, concatenate, Conv3D\n",
        "from pprint import pprint\n",
        "# import tensorflow_transform as tft\n",
        "import numpy as np\n",
        "import scipy.io\n",
        "import pandas as pd\n",
        "from scipy.signal import butter, lfilter, freqz\n",
        "from tqdm import tqdm\n",
        "import os\n",
        "import re\n",
        "import pickle\n",
        "import numpy as np\n",
        "from scipy.io import loadmat\n",
        "import seaborn as sns\n",
        "\n",
        "# import tensorflow.keras.backend as K"
      ],
      "execution_count": null,
      "outputs": []
    },
    {
      "cell_type": "code",
      "metadata": {
        "id": "1xnQWfkpUyO-"
      },
      "source": [
        "# K.set_image_data_format('channels_last') #does not work\n",
        "# tf.compat.v1.disable_eager_execution()\n",
        "tf.compat.v1.enable_eager_execution()"
      ],
      "execution_count": null,
      "outputs": []
    },
    {
      "cell_type": "code",
      "metadata": {
        "colab": {
          "base_uri": "https://localhost:8080/"
        },
        "id": "ZTPEWYWVvJyF",
        "outputId": "a3f129f7-be96-4021-835f-07d811b8579f"
      },
      "source": [
        "def minibatch(data, batch_size):\n",
        "    start = 0\n",
        "    while True:\n",
        "\n",
        "        end = start + batch_size\n",
        "        yield data[start:end]\n",
        "\n",
        "        start = end\n",
        "        if start >= len(data):\n",
        "            break\n",
        "\n",
        "# function to collect matching files and dirs\n",
        "def collect_files(root, res, pattern=\"\", collect_dirs=True, min_depth=None, max_depth=None):\n",
        "    \n",
        "    # check max depth\n",
        "    if not max_depth is None and max_depth == 0:\n",
        "        return\n",
        "    \n",
        "    # go through all item in the dir\n",
        "    for item in os.listdir(root):\n",
        "        \n",
        "        # process item\n",
        "        item_path = os.path.join(root, item)\n",
        "        item_is_dir = os.path.isdir(item_path)\n",
        "        \n",
        "        # pull valid file in res if min depth has reached\n",
        "        if min_depth is None or min_depth - 1 <= 0:\n",
        "            if re.match(pattern, item_path):\n",
        "                if not item_is_dir or collect_dirs:\n",
        "                    res.append(item_path)\n",
        "        \n",
        "        # recursively collect all files\n",
        "        if item_is_dir:\n",
        "            next_min_depth = None if min_depth is None else min_depth - 1\n",
        "            next_max_depth = None if max_depth is None else max_depth - 1\n",
        "            collect_files(item_path, res, pattern, collect_dirs, next_min_depth, next_max_depth)\n",
        "\n",
        "# collect the mat files\n",
        "mat_files = []\n",
        "collect_files(\"./\", mat_files, pattern=\".*\\.mat$\", collect_dirs=False)\n",
        "mat_files.sort()\n",
        "print(mat_files)\n",
        "\n",
        "# load all data into memory\n",
        "# all_data[i] means data for ith subject\n",
        "all_data = []\n",
        "for i, mat_file in enumerate(mat_files):\n",
        "    \n",
        "    # re-index tmp into a dictionary\n",
        "    tmp = loadmat(mat_file)[\"data\"][0][0]\n",
        "    tmp = {name: data for name, data in zip(tmp.dtype.names, tmp)}\n",
        "    \n",
        "    # rename column\n",
        "    tmp[\"x\"] = tmp[\"X\"]\n",
        "    del tmp[\"X\"]\n",
        "    \n",
        "    # reshape columns\n",
        "    tmp[\"y\"] = tmp[\"y\"].reshape(-1)\n",
        "    tmp[\"y_stim\"] = tmp[\"y_stim\"].reshape(-1)\n",
        "    tmp[\"trial\"] = tmp[\"trial\"].reshape(-1)\n",
        "    \n",
        "    # add subject info\n",
        "    tmp[\"subject\"] = i + 1\n",
        "    \n",
        "    all_data.append(tmp)\n",
        "\n",
        "pprint(all_data[0])\n",
        "\n",
        "# constants for data_extraction\n",
        "sample_rate = 250 #hz\n",
        "tick_len = 1000 // sample_rate # ms -> 4\n",
        "pre_epoch = 0 #ms\n",
        "post_epoch = 700 #ms\n",
        "\n",
        "raw = all_data[0]['x']\n",
        "print(np.array(raw.shape))\n",
        "\n",
        "# give raw eeg data and tick times, return 2d signals\n",
        "def extract_epochs(raw, ticks):\n",
        "    pre_tick = int(pre_epoch // tick_len) # 0\n",
        "    post_tick = int(post_epoch // tick_len) #175\n",
        "    raw_len = len(raw) #350k+ datapoints -> each experiment is 1400s long -> sampling at 250hz \n",
        "    signals = [] \n",
        "    for t in ticks:\n",
        "        if t + post_tick <= raw_len: \n",
        "            signal = raw[t-pre_tick:t+post_tick, :] #takes slice of data points, takes all electrodes\n",
        "            signals.append(signal)\n",
        "    return np.array(signals) #1st dim == # of sample point ids\n",
        "\n",
        "# extract epochs for every subject\n",
        "for i, data in enumerate(all_data):\n",
        "    \n",
        "    # extract from raw\n",
        "    ticks, y_stim, y = data[\"flash\"][:, [0, 2, 3]].T #extracts sample point id, stimulation(0-12), hit/nohits(1/2)\n",
        "    raw = data[\"x\"]\n",
        "    \n",
        "    # get the epochs\n",
        "    epochs = extract_epochs(raw, ticks) #returning signals -> we only slice from sample point ids, why?\n",
        "    \n",
        "    # label the epochs\n",
        "    for j, x in enumerate(y):\n",
        "        assert x == 1 or x == 2\n",
        "        y[j] = 1 if x == 2 else 0 #switching labels from 1/2 to 0/1\n",
        "    \n",
        "    # trim extra y and y_stim\n",
        "    y = y[:len(epochs)] #takes all the labels until # of sample point ids\n",
        "    y_stim = y_stim[:len(epochs)] #takes all the stim until # of sample point ids\n",
        "    \n",
        "    assert len(epochs) == len(y) and len(y) == len(y_stim) # validating stuff that we did in the 2 lines above \n",
        "    \n",
        "    samples = np.array(list(zip(epochs, y, y_stim)), dtype=object) # concatenates everything into an np array\n",
        "    \n",
        "    # save the data\n",
        "    with open(f\"s{i+1}.pkl\", \"wb\") as outfile:\n",
        "        pickle.dump(samples, outfile) #saves sample np array into pkl\n",
        "\n",
        "print(samples.shape)\n",
        "\n",
        "with open(\"s7.pkl\", \"rb\") as infile:\n",
        "    data = pickle.load(infile)\n",
        "\n",
        "a = []\n",
        "for i in data[:, 0]: #appending data batches into 'a'\n",
        "    a.append(i)\n",
        "\n",
        "# print('a', np.array(a).shape)\n",
        "# a = np.array(a).reshape(4200, 8, 175)\n",
        "\n",
        "# for i in range(1, 9):\n",
        "#     with open(f\"s{i}.pkl\", \"rb\") as infile:\n",
        "#         data = pickle.load(infile)\n",
        "#         target = np.sum(data[:, 1]) #Adds all the labels together\n",
        "#         print(target, len(data) - target) #hits:nohits\n",
        "\n",
        "data_size = len(data)\n",
        "print([i for i in data[:, 1]]) #use these to decode with a simple if loop ->  not super sure if each stim represents one flash\n",
        "\n",
        "# shuffle data\n",
        "shuffle_idx = np.random.permutation(data_size)\n",
        "data = data[shuffle_idx]\n",
        "\n",
        "# 80-20 split train/test\n",
        "cutoff = int(data_size * 80 // 100)\n",
        "train_data = data[:cutoff]\n",
        "val_data = data[cutoff:]\n",
        "\n",
        "# balance label in the train_data\n",
        "train_data_size = len(train_data)\n",
        "train_data_true_count = np.sum([x[1] for x in train_data]) #taking sum of hit labels\n",
        "train_data_false_count = train_data_size - train_data_true_count #finding # of nohit labels\n",
        "\n",
        "assert train_data_false_count >= train_data_true_count \n",
        "\n",
        "train_data_dup_count = train_data_false_count - train_data_true_count \n",
        "train_data_true_idx = np.array([i for i, x in enumerate(train_data) if x[1] == 1])#index array of train data hit labels\n",
        "train_data_true_sample_idx = np.random.choice(train_data_true_idx, train_data_dup_count, replace=True) #creates random sample indices with and size of dup_count\n",
        "train_data_addon = train_data[train_data_true_sample_idx] #creates array using indices above\n",
        "\n",
        "# make sure that all the addon have true labels\n",
        "assert all([x[1] == 1 for x in train_data_addon])\n",
        "\n",
        "# stack the addon to the original trainning data and shuffle again\n",
        "train_data = np.concatenate((train_data, train_data_addon), axis=0)\n",
        "train_data_size = len(train_data)\n",
        "shuffle_idx = np.random.permutation(train_data_size)\n",
        "train_data = train_data[shuffle_idx] #final dataset\n",
        "\n",
        "'''\n",
        "'''\n",
        "\n",
        "# train_data = train_data[:(len(train_data)*10//100)]\n",
        "\n",
        "# data = np.array([i for i in data[:, 0]])\n",
        "# labels = np.array(data[:, 1])\n",
        "# stim = np.array(data[:, 2])\n",
        " \n",
        "T_data = np.array([i for i in train_data[:, 0]])\n",
        "T_labels = np.array([i for i in train_data[:, 1]])\n",
        "T_stim = np.array([i for i in train_data[:, 2]])\n",
        "\n",
        "V_data = np.array([i for i in val_data[:, 0]])\n",
        "V_labels = np.array([i for i in val_data[:, 1]])\n",
        "V_stim = np.array([i for i in val_data[:, 2]])\n",
        "\n",
        "print(len(data))\n",
        "print(V_labels.shape, T_data.shape)\n",
        "\n",
        "with open(f\"labels.pkl\", \"wb\") as outfile:\n",
        "  pickle.dump([T_labels, V_labels], outfile)\n",
        "\n"
      ],
      "execution_count": null,
      "outputs": [
        {
          "output_type": "stream",
          "text": [
            "['./P300S01.mat', './P300S02.mat', './P300S03.mat', './P300S04.mat', './P300S05.mat', './P300S06.mat', './P300S07.mat', './P300S08.mat']\n",
            "{'flash': array([[  7486,     31,     11,      1],\n",
            "       [  7548,     31,      5,      1],\n",
            "       [  7610,     30,      7,      1],\n",
            "       ...,\n",
            "       [355688,     32,      3,      2],\n",
            "       [355750,     32,      7,      1],\n",
            "       [355813,     32,      4,      1]], dtype=int32),\n",
            " 'subject': 1,\n",
            " 'trial': array([  7487,  17511,  27536,  37564,  47590,  57620,  67641,  77667,\n",
            "        87690,  97715, 107740, 117764, 127790, 137813, 147840, 157867,\n",
            "       167893, 177915, 187942, 197967, 207995, 218018, 228044, 238068,\n",
            "       248095, 258119, 268146, 278171, 288194, 298220, 308246, 318273,\n",
            "       328297, 338325, 348349], dtype=int32),\n",
            " 'x': array([[26.95640373, 11.73869324,  6.98503304, ...,  2.66381407,\n",
            "        -3.04957318, -2.63618731],\n",
            "       [29.94702721, 14.98267174, 10.02626705, ...,  5.16736984,\n",
            "         1.30663943,  2.16391516],\n",
            "       [33.09702683, 19.32771683, 13.60309792, ...,  8.05283546,\n",
            "         8.53473663,  7.90571976],\n",
            "       ...,\n",
            "       [ 5.6236558 ,  0.53022534,  1.55959177, ..., -4.96036482,\n",
            "         2.35364461, -8.1143961 ],\n",
            "       [ 4.38928461,  1.46526659,  1.96254373, ..., -4.6057415 ,\n",
            "         1.29674733, -7.18669939],\n",
            "       [ 2.58838463,  0.79275906,  0.29564747, ..., -4.98137999,\n",
            "        -4.04607677, -7.54975986]]),\n",
            " 'y': array([0, 0, 0, ..., 0, 0, 0], dtype=uint8),\n",
            " 'y_stim': array([0, 0, 0, ..., 0, 0, 0], dtype=uint8)}\n",
            "[358372      8]\n",
            "(4198, 3)\n",
            "[0, 1, 0, 0, 1, 0, 0, 0, 0, 0, 0, 0, 0, 1, 0, 0, 0, 0, 0, 0, 0, 0, 1, 0, 0, 0, 0, 1, 0, 0, 0, 0, 1, 0, 0, 0, 0, 1, 0, 0, 0, 0, 0, 0, 0, 0, 1, 0, 0, 0, 0, 0, 1, 1, 0, 0, 0, 0, 0, 0, 0, 0, 0, 0, 1, 0, 0, 0, 0, 0, 0, 1, 0, 0, 0, 0, 1, 1, 0, 0, 0, 0, 0, 0, 0, 0, 1, 0, 0, 1, 0, 0, 0, 0, 0, 0, 0, 1, 1, 0, 0, 0, 0, 0, 0, 0, 0, 0, 0, 1, 0, 0, 0, 0, 1, 0, 0, 0, 0, 0, 0, 0, 0, 0, 0, 1, 0, 0, 0, 0, 1, 0, 1, 1, 0, 0, 0, 0, 0, 0, 0, 0, 0, 0, 0, 0, 0, 0, 0, 0, 0, 1, 0, 0, 1, 0, 0, 0, 0, 0, 0, 0, 1, 0, 0, 1, 0, 0, 0, 0, 0, 0, 0, 0, 1, 0, 0, 0, 0, 1, 0, 0, 1, 0, 0, 0, 0, 0, 0, 0, 0, 1, 0, 0, 0, 0, 0, 0, 0, 0, 0, 0, 1, 1, 0, 0, 0, 1, 0, 0, 0, 0, 1, 0, 0, 0, 0, 0, 0, 0, 0, 1, 0, 0, 1, 0, 0, 0, 0, 0, 0, 1, 0, 0, 1, 0, 0, 0, 0, 0, 0, 0, 0, 0, 0, 0, 1, 1, 0, 0, 0, 0, 0, 1, 0, 0, 1, 0, 0, 0, 0, 0, 0, 0, 1, 0, 0, 1, 0, 0, 0, 0, 0, 0, 0, 0, 0, 0, 0, 0, 0, 0, 0, 0, 0, 1, 1, 0, 0, 0, 0, 0, 1, 0, 0, 1, 0, 0, 0, 0, 0, 0, 0, 0, 0, 0, 0, 0, 1, 1, 0, 0, 1, 0, 0, 0, 0, 0, 0, 0, 0, 0, 0, 1, 0, 0, 0, 0, 0, 0, 0, 0, 1, 1, 0, 0, 0, 0, 0, 0, 0, 0, 1, 0, 0, 0, 0, 1, 0, 0, 0, 0, 0, 1, 0, 0, 0, 0, 1, 0, 1, 0, 0, 0, 0, 1, 0, 0, 0, 0, 0, 0, 1, 0, 0, 0, 0, 0, 0, 0, 0, 1, 0, 0, 0, 0, 1, 0, 0, 1, 0, 0, 0, 0, 0, 0, 0, 0, 0, 1, 0, 0, 0, 0, 0, 0, 1, 0, 1, 0, 0, 0, 0, 0, 0, 0, 0, 1, 0, 0, 0, 0, 1, 0, 0, 1, 0, 0, 0, 0, 0, 0, 0, 0, 0, 1, 0, 0, 0, 0, 0, 0, 1, 0, 1, 1, 0, 0, 0, 0, 0, 0, 0, 0, 0, 0, 0, 0, 0, 0, 1, 0, 0, 0, 0, 0, 0, 1, 0, 0, 0, 0, 1, 0, 0, 0, 0, 0, 0, 1, 0, 0, 0, 0, 1, 0, 0, 1, 0, 0, 0, 0, 0, 0, 0, 0, 0, 1, 0, 0, 0, 0, 1, 0, 0, 0, 0, 1, 0, 0, 0, 0, 1, 0, 0, 0, 0, 0, 0, 1, 0, 0, 0, 0, 1, 0, 0, 0, 1, 0, 0, 0, 0, 0, 0, 0, 0, 0, 0, 1, 1, 0, 0, 1, 0, 0, 0, 0, 0, 0, 0, 0, 0, 0, 0, 1, 0, 0, 1, 0, 0, 0, 0, 0, 0, 0, 0, 0, 0, 0, 0, 0, 1, 0, 0, 1, 0, 1, 0, 0, 0, 0, 0, 0, 1, 0, 0, 0, 0, 0, 0, 0, 0, 1, 0, 0, 1, 0, 0, 0, 1, 0, 0, 0, 0, 0, 0, 0, 0, 1, 0, 0, 0, 0, 1, 0, 0, 0, 0, 0, 0, 1, 0, 0, 0, 0, 0, 0, 0, 0, 0, 1, 0, 0, 1, 0, 0, 0, 1, 0, 0, 0, 0, 0, 0, 1, 0, 0, 0, 0, 0, 0, 0, 1, 0, 0, 1, 0, 0, 0, 0, 0, 0, 0, 0, 1, 0, 0, 1, 0, 0, 0, 0, 0, 1, 0, 0, 0, 0, 0, 0, 0, 0, 1, 0, 0, 0, 1, 1, 0, 0, 0, 0, 0, 0, 0, 0, 0, 1, 0, 0, 0, 0, 1, 0, 0, 0, 0, 0, 0, 0, 0, 0, 0, 1, 0, 0, 0, 0, 1, 0, 0, 0, 0, 0, 1, 0, 0, 0, 0, 1, 0, 0, 0, 1, 0, 0, 1, 0, 0, 0, 0, 0, 0, 0, 0, 0, 0, 0, 0, 0, 0, 0, 1, 1, 0, 0, 0, 0, 0, 1, 1, 0, 0, 0, 0, 0, 0, 0, 0, 0, 0, 0, 0, 0, 0, 1, 1, 0, 0, 1, 0, 0, 1, 0, 0, 0, 0, 0, 0, 0, 0, 0, 0, 1, 0, 0, 1, 0, 0, 0, 0, 0, 0, 0, 0, 0, 0, 1, 0, 0, 0, 0, 1, 0, 0, 0, 1, 0, 0, 1, 0, 0, 0, 0, 0, 0, 0, 1, 0, 0, 1, 0, 0, 0, 0, 0, 0, 0, 0, 0, 0, 0, 0, 0, 0, 0, 0, 0, 0, 1, 1, 0, 0, 0, 0, 0, 0, 0, 0, 1, 1, 0, 0, 0, 0, 0, 0, 0, 0, 0, 1, 0, 0, 1, 0, 0, 0, 0, 0, 0, 0, 0, 0, 0, 0, 1, 1, 0, 0, 0, 1, 0, 0, 1, 0, 0, 0, 0, 0, 0, 0, 0, 0, 1, 1, 0, 0, 0, 0, 0, 0, 1, 0, 0, 0, 0, 1, 0, 0, 0, 0, 0, 0, 0, 1, 0, 0, 0, 0, 1, 0, 0, 0, 0, 0, 1, 0, 0, 0, 0, 0, 0, 0, 0, 0, 0, 1, 0, 0, 0, 0, 0, 0, 0, 0, 1, 0, 0, 1, 1, 0, 0, 1, 0, 0, 0, 0, 0, 0, 0, 0, 0, 0, 1, 0, 0, 0, 0, 0, 0, 1, 0, 0, 0, 0, 0, 0, 0, 0, 1, 0, 0, 0, 0, 1, 0, 1, 1, 0, 0, 0, 0, 0, 0, 0, 0, 0, 0, 0, 0, 0, 1, 0, 0, 1, 0, 0, 0, 0, 0, 0, 0, 0, 0, 0, 0, 0, 1, 0, 0, 1, 0, 0, 0, 0, 0, 0, 0, 0, 1, 0, 0, 1, 0, 0, 0, 0, 0, 0, 0, 0, 1, 0, 0, 1, 0, 0, 0, 0, 0, 0, 0, 0, 0, 1, 1, 0, 0, 0, 0, 0, 1, 0, 0, 0, 0, 0, 0, 1, 0, 0, 0, 0, 0, 1, 0, 0, 0, 0, 1, 0, 0, 0, 0, 0, 0, 0, 0, 0, 1, 0, 0, 1, 0, 0, 0, 0, 1, 0, 0, 0, 0, 1, 0, 0, 0, 0, 0, 0, 1, 0, 0, 0, 0, 1, 0, 0, 0, 0, 0, 0, 0, 0, 1, 0, 0, 0, 0, 1, 0, 0, 0, 0, 0, 1, 0, 0, 1, 0, 0, 0, 0, 0, 0, 0, 0, 0, 0, 0, 1, 1, 0, 0, 0, 0, 0, 0, 0, 0, 0, 0, 1, 1, 0, 0, 0, 0, 0, 0, 0, 0, 1, 1, 0, 0, 0, 0, 0, 0, 1, 0, 0, 1, 0, 0, 0, 0, 0, 0, 0, 1, 0, 0, 0, 0, 0, 0, 0, 0, 1, 0, 0, 0, 0, 0, 0, 0, 0, 0, 0, 1, 1, 0, 1, 0, 0, 0, 0, 0, 0, 0, 0, 1, 0, 0, 1, 0, 0, 0, 0, 0, 0, 0, 0, 0, 0, 1, 0, 0, 0, 0, 0, 1, 0, 0, 0, 0, 1, 0, 1, 0, 0, 1, 0, 0, 0, 0, 0, 0, 0, 0, 0, 0, 0, 1, 0, 0, 1, 0, 0, 0, 0, 0, 0, 1, 0, 0, 0, 0, 1, 0, 0, 0, 0, 0, 0, 0, 0, 0, 1, 1, 0, 0, 0, 0, 0, 0, 0, 0, 0, 0, 0, 0, 1, 0, 0, 0, 0, 1, 0, 0, 0, 0, 0, 1, 0, 0, 1, 0, 0, 0, 0, 0, 0, 0, 0, 1, 1, 0, 0, 0, 0, 0, 0, 0, 1, 0, 0, 0, 0, 0, 0, 0, 0, 1, 1, 0, 0, 0, 0, 0, 0, 0, 0, 0, 0, 1, 0, 1, 0, 0, 1, 0, 0, 0, 0, 0, 0, 0, 0, 0, 0, 1, 0, 0, 0, 0, 0, 0, 1, 0, 0, 0, 0, 0, 1, 0, 0, 0, 0, 1, 0, 0, 0, 0, 0, 0, 1, 0, 0, 1, 0, 0, 0, 0, 0, 0, 1, 1, 0, 0, 0, 0, 0, 0, 0, 0, 0, 1, 0, 0, 0, 0, 1, 0, 0, 0, 0, 0, 0, 0, 0, 1, 0, 0, 1, 0, 0, 0, 0, 0, 0, 0, 0, 0, 0, 1, 1, 0, 0, 0, 0, 0, 0, 0, 0, 1, 0, 0, 0, 0, 0, 0, 1, 0, 0, 0, 0, 0, 0, 0, 0, 0, 0, 1, 1, 0, 0, 0, 0, 0, 1, 0, 0, 0, 0, 1, 0, 0, 0, 0, 0, 0, 1, 0, 0, 0, 0, 1, 0, 0, 0, 0, 0, 0, 1, 0, 0, 1, 0, 0, 0, 0, 0, 0, 1, 0, 0, 0, 0, 0, 0, 0, 0, 1, 1, 0, 0, 1, 0, 0, 0, 0, 0, 0, 0, 0, 0, 0, 0, 0, 1, 0, 0, 0, 0, 0, 0, 1, 0, 0, 0, 0, 1, 0, 0, 1, 0, 0, 0, 0, 0, 0, 1, 1, 0, 0, 0, 0, 0, 0, 0, 0, 0, 0, 0, 0, 0, 0, 1, 0, 0, 0, 0, 1, 1, 0, 0, 0, 0, 0, 0, 0, 0, 0, 0, 1, 0, 0, 0, 0, 0, 0, 0, 0, 0, 0, 1, 1, 0, 0, 0, 0, 1, 0, 0, 1, 0, 0, 0, 0, 1, 0, 0, 0, 0, 0, 0, 0, 0, 0, 0, 1, 0, 0, 0, 0, 0, 0, 0, 0, 1, 0, 0, 1, 1, 0, 0, 0, 0, 0, 0, 0, 0, 0, 0, 1, 0, 0, 0, 0, 0, 0, 1, 0, 0, 0, 0, 1, 0, 1, 0, 0, 0, 0, 1, 0, 0, 0, 0, 0, 0, 0, 0, 0, 1, 0, 0, 1, 0, 0, 0, 0, 0, 0, 1, 0, 0, 1, 0, 0, 0, 0, 0, 0, 1, 1, 0, 0, 0, 0, 0, 0, 0, 0, 0, 0, 1, 0, 0, 1, 0, 0, 0, 0, 0, 0, 0, 0, 0, 0, 0, 0, 0, 0, 1, 1, 0, 0, 0, 0, 0, 0, 0, 0, 0, 0, 0, 0, 1, 1, 0, 0, 0, 0, 0, 1, 0, 0, 0, 0, 0, 0, 1, 0, 0, 0, 0, 0, 0, 0, 0, 0, 1, 1, 0, 0, 0, 1, 0, 0, 0, 0, 1, 0, 0, 0, 0, 0, 0, 0, 0, 0, 0, 0, 0, 0, 1, 0, 0, 1, 0, 1, 1, 0, 0, 0, 0, 0, 0, 0, 0, 0, 0, 0, 0, 0, 0, 1, 0, 0, 1, 0, 0, 0, 0, 0, 0, 0, 0, 1, 0, 0, 0, 0, 1, 0, 0, 0, 0, 0, 0, 0, 0, 0, 0, 0, 1, 1, 0, 0, 0, 0, 1, 0, 0, 1, 0, 0, 0, 0, 0, 0, 0, 0, 0, 1, 0, 0, 1, 0, 0, 0, 1, 1, 0, 0, 0, 0, 0, 0, 0, 0, 0, 0, 0, 0, 0, 0, 0, 0, 1, 0, 0, 0, 0, 1, 1, 1, 0, 0, 0, 0, 0, 0, 0, 0, 0, 0, 0, 0, 1, 0, 0, 0, 0, 1, 0, 0, 0, 0, 0, 1, 1, 0, 0, 0, 0, 0, 0, 0, 0, 0, 1, 0, 0, 0, 0, 0, 0, 0, 0, 0, 0, 1, 0, 0, 0, 1, 0, 0, 1, 0, 0, 0, 0, 0, 0, 1, 0, 0, 0, 0, 0, 0, 1, 0, 0, 0, 0, 0, 0, 0, 0, 0, 0, 0, 0, 1, 1, 0, 0, 1, 0, 0, 0, 0, 0, 0, 0, 0, 1, 0, 0, 0, 1, 0, 0, 0, 0, 0, 0, 0, 0, 1, 0, 0, 0, 0, 0, 1, 1, 0, 0, 0, 0, 0, 1, 1, 0, 0, 0, 0, 0, 0, 0, 0, 0, 0, 0, 0, 1, 1, 0, 0, 0, 0, 0, 0, 0, 0, 0, 1, 0, 0, 1, 0, 0, 0, 0, 0, 0, 0, 0, 0, 0, 0, 0, 0, 0, 1, 0, 0, 1, 0, 0, 0, 0, 1, 1, 0, 0, 0, 0, 0, 0, 0, 0, 1, 0, 0, 0, 0, 0, 0, 1, 0, 0, 0, 0, 1, 0, 0, 0, 0, 0, 0, 0, 0, 1, 0, 0, 1, 0, 0, 0, 0, 0, 0, 1, 0, 0, 0, 1, 0, 0, 0, 0, 0, 0, 0, 0, 0, 0, 1, 0, 0, 1, 1, 0, 0, 0, 0, 0, 0, 0, 0, 0, 1, 1, 0, 0, 0, 0, 0, 0, 0, 0, 0, 0, 1, 1, 0, 0, 0, 0, 0, 0, 0, 0, 0, 0, 1, 0, 0, 0, 0, 1, 0, 0, 0, 0, 0, 0, 0, 1, 0, 0, 0, 0, 1, 0, 0, 0, 0, 0, 0, 0, 0, 0, 0, 1, 1, 0, 0, 0, 0, 0, 0, 0, 0, 0, 0, 0, 1, 0, 0, 1, 0, 0, 0, 0, 0, 0, 1, 0, 0, 1, 0, 0, 0, 0, 0, 0, 0, 0, 0, 1, 0, 0, 0, 0, 1, 0, 0, 0, 0, 1, 0, 0, 0, 0, 0, 0, 1, 0, 0, 0, 1, 0, 0, 0, 0, 0, 0, 1, 0, 0, 0, 0, 0, 1, 0, 0, 0, 0, 1, 0, 0, 0, 0, 1, 0, 0, 1, 0, 0, 0, 0, 0, 0, 1, 0, 0, 0, 0, 0, 0, 0, 0, 1, 0, 0, 0, 0, 0, 0, 0, 0, 1, 1, 0, 0, 0, 0, 0, 0, 0, 0, 0, 1, 0, 0, 0, 0, 1, 0, 0, 0, 0, 0, 0, 0, 1, 0, 0, 0, 0, 1, 1, 0, 0, 1, 0, 0, 0, 0, 0, 0, 0, 0, 0, 0, 0, 0, 0, 0, 0, 0, 0, 1, 1, 0, 0, 0, 0, 0, 0, 0, 0, 0, 1, 0, 0, 1, 0, 0, 0, 0, 0, 0, 0, 0, 1, 1, 0, 0, 0, 0, 0, 0, 1, 0, 0, 0, 0, 0, 0, 1, 0, 1, 0, 0, 0, 0, 0, 0, 1, 0, 0, 0, 0, 0, 0, 0, 0, 0, 0, 1, 0, 0, 1, 0, 0, 0, 0, 0, 0, 1, 0, 0, 1, 0, 0, 0, 0, 1, 0, 0, 0, 0, 0, 0, 0, 0, 1, 0, 0, 1, 0, 0, 0, 0, 0, 0, 0, 0, 1, 0, 0, 0, 0, 1, 0, 0, 0, 0, 1, 0, 0, 0, 1, 0, 0, 0, 0, 0, 0, 1, 0, 0, 0, 0, 1, 0, 0, 1, 0, 0, 0, 0, 0, 0, 0, 0, 0, 1, 0, 0, 0, 0, 1, 0, 0, 0, 0, 0, 0, 1, 0, 0, 0, 0, 1, 0, 0, 0, 0, 0, 0, 0, 1, 1, 0, 0, 0, 0, 0, 0, 0, 0, 0, 1, 1, 0, 0, 0, 0, 0, 0, 0, 0, 0, 0, 0, 1, 0, 0, 0, 0, 1, 0, 0, 0, 0, 0, 0, 0, 0, 0, 1, 1, 0, 0, 0, 0, 0, 1, 0, 0, 0, 0, 1, 0, 0, 0, 0, 0, 0, 0, 0, 0, 0, 0, 0, 0, 0, 0, 0, 1, 1, 0, 0, 0, 0, 0, 1, 0, 0, 1, 0, 0, 0, 0, 0, 0, 0, 0, 0, 1, 1, 0, 0, 0, 0, 1, 0, 0, 0, 0, 0, 0, 0, 0, 1, 0, 0, 0, 0, 0, 0, 0, 0, 1, 0, 0, 1, 0, 0, 0, 0, 1, 0, 0, 0, 0, 0, 0, 1, 0, 0, 0, 0, 0, 0, 0, 0, 1, 0, 0, 0, 0, 1, 0, 0, 0, 0, 0, 1, 0, 0, 1, 0, 0, 0, 0, 0, 1, 1, 0, 0, 0, 0, 0, 0, 0, 0, 0, 0, 1, 1, 0, 0, 0, 0, 0, 0, 0, 0, 0, 0, 1, 0, 0, 0, 0, 0, 0, 0, 0, 1, 0, 0, 0, 1, 0, 0, 0, 0, 0, 0, 1, 0, 0, 0, 1, 0, 0, 0, 0, 1, 0, 0, 0, 0, 0, 0, 0, 0, 1, 1, 0, 0, 0, 0, 0, 0, 0, 0, 0, 0, 1, 0, 0, 0, 0, 0, 0, 1, 1, 0, 0, 1, 0, 0, 0, 0, 0, 0, 0, 0, 0, 0, 0, 0, 0, 0, 1, 1, 0, 0, 0, 0, 0, 0, 0, 0, 0, 1, 1, 0, 0, 0, 0, 0, 1, 0, 0, 0, 0, 1, 0, 0, 0, 0, 0, 0, 1, 0, 0, 1, 0, 0, 0, 0, 0, 0, 0, 0, 0, 0, 0, 1, 0, 0, 0, 0, 1, 0, 0, 0, 1, 0, 0, 0, 0, 0, 0, 0, 0, 1, 0, 0, 0, 0, 1, 0, 0, 0, 0, 0, 0, 1, 0, 0, 0, 0, 0, 1, 0, 0, 0, 0, 1, 0, 0, 0, 0, 0, 1, 0, 0, 0, 0, 1, 0, 0, 0, 0, 0, 0, 0, 0, 1, 0, 0, 0, 0, 0, 0, 1, 1, 0, 0, 0, 0, 1, 0, 0, 0, 0, 0, 0, 0, 0, 0, 0, 0, 0, 0, 0, 0, 0, 1, 1, 0, 0, 0, 0, 1, 0, 0, 0, 0, 0, 0, 1, 0, 0, 1, 0, 0, 0, 0, 0, 0, 0, 0, 1, 0, 0, 1, 0, 0, 0, 0, 1, 0, 0, 0, 0, 1, 0, 0, 1, 0, 0, 0, 0, 0, 0, 0, 0, 1, 0, 0, 0, 0, 0, 0, 0, 0, 1, 0, 0, 0, 0, 0, 0, 0, 0, 1, 0, 0, 0, 0, 1, 0, 1, 0, 0, 1, 0, 0, 0, 0, 0, 0, 0, 0, 0, 0, 0, 1, 1, 0, 0, 0, 0, 0, 0, 0, 0, 0, 0, 1, 0, 0, 0, 0, 0, 0, 1, 0, 0, 1, 1, 0, 0, 0, 0, 0, 0, 0, 0, 0, 1, 0, 0, 1, 0, 0, 0, 0, 0, 0, 0, 0, 0, 0, 0, 0, 0, 0, 1, 1, 0, 0, 0, 0, 0, 0, 1, 0, 0, 1, 0, 0, 0, 0, 0, 1, 1, 0, 0, 0, 0, 0, 0, 0, 0, 0, 0, 0, 0, 0, 0, 0, 0, 0, 0, 1, 1, 0, 0, 0, 1, 0, 0, 1, 0, 0, 0, 0, 0, 0, 0, 1, 0, 0, 1, 0, 0, 0, 0, 0, 0, 0, 0, 0, 0, 0, 0, 0, 0, 1, 0, 0, 1, 0, 0, 0, 0, 0, 1, 1, 0, 0, 0, 0, 0, 0, 0, 0, 0, 0, 0, 1, 0, 0, 1, 0, 0, 0, 0, 1, 0, 0, 0, 0, 0, 0, 0, 0, 0, 0, 1, 0, 1, 0, 0, 1, 0, 0, 0, 0, 0, 0, 0, 0, 0, 0, 0, 1, 0, 0, 1, 0, 0, 0, 0, 1, 0, 0, 1, 0, 0, 0, 0, 0, 0, 0, 0, 0, 0, 0, 0, 0, 0, 1, 0, 0, 0, 0, 1, 1, 0, 0, 0, 0, 0, 0, 0, 0, 1, 0, 0, 0, 0, 0, 0, 0, 0, 0, 1, 1, 0, 0, 0, 0, 0, 0, 0, 0, 0, 0, 0, 1, 1, 0, 0, 0, 0, 1, 0, 0, 0, 0, 0, 0, 1, 0, 0, 0, 1, 0, 0, 0, 0, 0, 0, 1, 0, 0, 0, 0, 0, 0, 0, 0, 1, 1, 0, 0, 0, 0, 0, 0, 1, 0, 0, 0, 0, 0, 0, 0, 0, 1, 0, 0, 0, 0, 1, 1, 0, 0, 0, 0, 0, 0, 0, 0, 0, 0, 1, 0, 0, 0, 0, 0, 0, 1, 0, 1, 0, 0, 1, 0, 0, 0, 0, 0, 0, 0, 0, 0, 1, 0, 0, 0, 0, 0, 0, 1, 0, 0, 0, 0, 0, 1, 0, 0, 1, 0, 0, 0, 0, 0, 0, 0, 0, 0, 0, 0, 0, 1, 0, 0, 1, 0, 0, 0, 0, 0, 0, 0, 0, 0, 0, 0, 0, 1, 1, 1, 0, 0, 0, 0, 0, 0, 0, 0, 0, 0, 1, 0, 0, 0, 0, 1, 0, 0, 1, 0, 0, 0, 0, 1, 1, 0, 0, 0, 0, 0, 0, 0, 0, 0, 0, 0, 1, 0, 0, 0, 0, 0, 0, 1, 0, 0, 0, 0, 0, 1, 0, 0, 1, 0, 0, 0, 0, 0, 0, 0, 0, 0, 0, 1, 0, 0, 0, 0, 0, 0, 1, 0, 0, 0, 0, 0, 1, 0, 0, 1, 0, 0, 0, 0, 0, 0, 0, 0, 0, 0, 0, 1, 0, 0, 1, 0, 1, 0, 0, 0, 0, 0, 0, 1, 0, 0, 0, 0, 0, 1, 0, 0, 0, 0, 0, 0, 0, 0, 1, 0, 0, 0, 0, 0, 0, 0, 1, 1, 0, 0, 0, 0, 0, 0, 0, 0, 1, 0, 0, 1, 0, 0, 0, 1, 0, 0, 0, 0, 0, 0, 0, 0, 1, 0, 0, 0, 1, 0, 0, 0, 0, 0, 0, 1, 0, 0, 0, 0, 0, 0, 0, 1, 0, 0, 0, 0, 1, 0, 0, 0, 0, 1, 0, 0, 0, 0, 0, 0, 0, 0, 1, 1, 1, 0, 0, 0, 0, 0, 0, 0, 0, 0, 0, 0, 0, 1, 0, 0, 0, 0, 1, 0, 0, 0, 0, 0, 0, 0, 0, 0, 0, 1, 1, 0, 0, 0, 0, 1, 0, 0, 0, 0, 0, 0, 0, 0, 1, 0, 0, 0, 1, 0, 0, 0, 0, 0, 0, 1, 0, 0, 0, 0, 0, 0, 1, 1, 0, 0, 0, 0, 0, 0, 0, 0, 0, 0, 0, 0, 0, 0, 0, 0, 0, 1, 1, 0, 1, 1, 0, 0, 0, 0, 0, 0, 0, 0, 0, 0, 0, 0, 0, 0, 0, 0, 1, 1, 0, 0, 0, 0, 0, 0, 1, 1, 0, 0, 0, 0, 0, 0, 0, 0, 1, 0, 0, 0, 0, 0, 0, 1, 0, 0, 0, 0, 1, 0, 0, 0, 0, 0, 0, 1, 0, 0, 0, 1, 0, 0, 1, 0, 0, 0, 0, 0, 0, 0, 0, 0, 0, 0, 0, 1, 0, 0, 1, 0, 0, 0, 0, 1, 1, 0, 0, 0, 0, 0, 0, 0, 0, 0, 0, 1, 0, 0, 0, 0, 0, 0, 1, 0, 0, 0, 0, 0, 0, 0, 1, 0, 0, 1, 0, 0, 0, 0, 0, 0, 0, 0, 0, 0, 0, 1, 0, 0, 0, 0, 1, 0, 0, 0, 0, 0, 0, 0, 0, 1, 0, 0, 1, 0, 0, 0, 1, 0, 0, 1, 0, 0, 0, 0, 0, 1, 1, 0, 0, 0, 0, 0, 0, 0, 0, 0, 0, 0, 0, 0, 0, 0, 0, 0, 0, 0, 1, 1, 0, 0, 0, 0, 0, 0, 1, 0, 0, 1, 0, 0, 0, 0, 0, 0, 1, 0, 0, 0, 0, 0, 0, 1, 0, 1, 1, 0, 0, 0, 0, 0, 0, 0, 0, 0, 0, 0, 0, 0, 0, 1, 0, 0, 0, 0, 0, 0, 1, 0, 0, 0, 0, 0, 0, 0, 0, 1, 0, 0, 1, 0, 0, 0, 0, 1, 0, 0, 1, 0, 0, 0, 0, 0, 0, 0, 0, 0, 1, 1, 0, 0, 0, 0, 0, 0, 0, 0, 0, 0, 0, 0, 1, 1, 0, 0, 0, 0, 0, 0, 0, 1, 0, 0, 0, 0, 1, 0, 0, 0, 0, 0, 1, 0, 0, 0, 0, 0, 0, 1, 0, 0, 0, 0, 0, 0, 1, 0, 0, 0, 0, 1, 0, 1, 0, 0, 0, 0, 0, 0, 0, 0, 1, 0, 0, 0, 0, 0, 0, 1, 0, 0, 0, 0, 1, 0, 0, 0, 1, 0, 0, 1, 0, 0, 0, 0, 0, 0, 0, 1, 0, 0, 0, 0, 0, 0, 0, 0, 0, 0, 1, 0, 0, 0, 0, 1, 1, 0, 0, 0, 0, 0, 0, 0, 0, 0, 0, 0, 0, 1, 0, 0, 1, 0, 0, 0, 0, 0, 0, 1, 1, 0, 0, 0, 0, 0, 0, 0, 0, 0, 0, 1, 0, 0, 0, 0, 0, 0, 1, 0, 0, 0, 0, 0, 0, 0, 0, 0, 1, 1, 0, 0, 0, 0, 0, 0, 0, 1, 0, 0, 0, 0, 1, 0, 0, 1, 0, 0, 1, 0, 0, 0, 0, 0, 0, 0, 1, 0, 0, 0, 0, 0, 0, 0, 0, 1, 0, 0, 1, 0, 0, 0, 0, 0, 0, 0, 0, 1, 0, 0, 0, 0, 0, 0, 1, 0, 0, 1, 0, 0, 0, 0, 0, 0, 0, 0, 0, 1, 1, 0, 0, 0, 0, 0, 0, 0, 1, 0, 0, 1, 0, 0, 0, 0, 0, 1, 0, 0, 0, 0, 0, 0, 0, 0, 0, 0, 1, 0, 0, 0, 0, 0, 0, 0, 0, 0, 1, 1, 0, 0, 0, 0, 0, 0, 0, 0, 0, 0, 0]\n",
            "hello (3358, 3)\n",
            "hello (5610, 3)\n",
            "4198\n",
            "(840,) (5610, 175, 8)\n"
          ],
          "name": "stdout"
        }
      ]
    },
    {
      "cell_type": "code",
      "metadata": {
        "id": "bbaJ50AMupCL"
      },
      "source": [
        "def standardize_data(arr):\n",
        "         \n",
        "    '''\n",
        "    This function standardize an array, its substracts mean value, \n",
        "    and then divide the standard deviation.\n",
        "    \n",
        "    param 1: array \n",
        "    return: standardized array\n",
        "    '''    \n",
        "    rows, columns = arr.shape\n",
        "    \n",
        "    standardizedArray = np.zeros(shape=(rows, columns)) \n",
        "    tempArray = np.zeros(rows)  \n",
        "    \n",
        "    for column in tqdm(range(columns)):\n",
        "        \n",
        "        # print(column)\n",
        "        mean = np.mean(X[:,column]) #mean of channel\n",
        "        std = np.std(X[:,column]) #std of channel\n",
        "        tempArray = np.empty(0)\n",
        "        \n",
        "        for element in X[:,column]: \n",
        "            \n",
        "            tempArray = np.append(tempArray, ((element - mean) / std)) #row val - mean/std = mean of 0, STD of 1\n",
        " \n",
        "        standardizedArray[:,column] = tempArray\n",
        "    \n",
        "    return standardizedArray\n",
        "\n",
        "ink = np.random.randn(50,64,240) #numpy\n",
        "\n",
        "PCA_array = [[], []]\n",
        "datax = [T_data, V_data]\n",
        "\n",
        "for data in tqdm(datax):\n",
        "# Standardizing data\n",
        "  X = data.reshape(len(data)*8, 175) #flatten axis for standardizing\n",
        "  X = standardize_data(X).reshape(-1, 8, 175)\n",
        "  # print(X.shape)\n",
        "\n",
        "  for batch in X:\n",
        "    # Calculating the covariance matrix\n",
        "    covariance_matrix = np.cov(batch.T)\n",
        "    # print(covariance_matrix)\n",
        "\n",
        "    # Using np.linalg.eig function\n",
        "    eigen_values, eigen_vectors = np.linalg.eig(covariance_matrix)\n",
        "    # print(\"Eigenvector: \\n\",eigen_vectors,\"\\n\")\n",
        "    # print(\"Eigenvalues: \\n\", eigen_values, \"\\n\")\n",
        "\n",
        "  # Calculating the explained variance on each of components\n",
        "    variance_explained = []\n",
        "    for i in eigen_values:\n",
        "        variance_explained.append((i/sum(eigen_values))*100)\n",
        "          \n",
        "    # print(variance_explained)\n",
        "\n",
        "  # Identifying components that explain at least 95%\n",
        "\n",
        "    cumulative_variance_explained = np.cumsum(variance_explained)\n",
        "    # print(cumulative_variance_explained)\n",
        "\n",
        "  # Using two first components (because those explain more than 95%)\n",
        "    projection_matrix = (eigen_vectors.T[:][:60]).T\n",
        "    # print(projection_matrix)\n",
        "\n",
        "  # Getting the product of original standardized X and the eigenvectors \n",
        "    batch_pca = batch.dot(projection_matrix)\n",
        "    PCA_array[datax.index(data)].append(batch_pca)\n",
        "\n",
        "# print(PCA_array)\n",
        "PCA_array = np.array([np.array(x) for x in PCA_array], dtype=object)\n",
        "print(PCA_array.shape)\n",
        "with open(f\"PCA1.pkl\", \"wb\") as outfile:\n",
        "  pickle.dump(PCA_array, outfile)\n"
      ],
      "execution_count": null,
      "outputs": []
    },
    {
      "cell_type": "code",
      "metadata": {
        "colab": {
          "base_uri": "https://localhost:8080/"
        },
        "id": "BJa3YkCyEc9W",
        "outputId": "4e3ad7ac-c2db-4506-dce3-1c430f4b13bc"
      },
      "source": [
        "with open(\"PCA1.pkl\", \"rb\") as infile:\n",
        "    pca = pickle.load(infile)\n",
        "\n",
        "print(pca[1].shape)\n",
        "\n",
        "#hold out split\n",
        "PCA_val, PCA_train = pca[1].reshape(-1, 8, 60, 1),  pca[0].reshape(-1, 8, 60, 1)\n",
        "\n",
        "PCA_train.shape\n",
        "\n",
        "\n",
        "# print(PCA_val.shape, PCA_train.shape, labels_val.shape, labels_train.shape, labels.shape)"
      ],
      "execution_count": null,
      "outputs": [
        {
          "output_type": "stream",
          "text": [
            "(840, 8, 60)\n"
          ],
          "name": "stdout"
        },
        {
          "output_type": "execute_result",
          "data": {
            "text/plain": [
              "(5610, 8, 60, 1)"
            ]
          },
          "metadata": {
            "tags": []
          },
          "execution_count": 2
        }
      ]
    },
    {
      "cell_type": "code",
      "metadata": {
        "colab": {
          "base_uri": "https://localhost:8080/"
        },
        "id": "CiwW-p2w6kqF",
        "outputId": "6cf071f3-1ac0-4cb0-988b-e20a73797792"
      },
      "source": [
        "with open(\"labels.pkl\", \"rb\") as infile:\n",
        "    T_labels, V_labels = pickle.load(infile)\n",
        "\n",
        "print(T_labels.shape)\n",
        "print(V_labels.shape)\n",
        "\n",
        "\n"
      ],
      "execution_count": null,
      "outputs": [
        {
          "output_type": "stream",
          "text": [
            "(5610,)\n",
            "(840,)\n"
          ],
          "name": "stdout"
        }
      ]
    },
    {
      "cell_type": "markdown",
      "metadata": {
        "id": "rGWQ29k_Q1w4"
      },
      "source": [
        "120 dim"
      ]
    },
    {
      "cell_type": "code",
      "metadata": {
        "colab": {
          "base_uri": "https://localhost:8080/"
        },
        "id": "F_E92qlePUkp",
        "outputId": "46699515-a617-454d-8b3d-b751254a6220"
      },
      "source": [
        "model = models.Sequential()\n",
        "inp_conc1 = Input(shape=(1, 120, 20))\n",
        "inp_conc2 = Input(shape=(1, 44, 16))\n",
        "\n",
        "#l2\n",
        "model.add(Conv2D(20, (8, 1), activation=\"relu\", strides=(8, 1), padding='same', input_shape=(8, 120, 1))) #just change kernel size here and you should be good to go with any array\n",
        "# print(L2.shape) #0th index: # of batches, 1st index: height of output, 2nd index: width of output, 3rd index: depth -> # of filters\n",
        "#l3\n",
        "L3_1 = Conv2D(filters=16, kernel_size=(1, 5), strides=(1, 5), padding=\"same\", activation=\"relu\", input_shape=(1, 120, 20))(inp_conc1)\n",
        "# print(L3_1.shape)\n",
        "\n",
        "L3_2 = Conv2D(filters=16, kernel_size=(1, 10), strides=(1, 10), padding=\"same\", activation=\"relu\", input_shape=(1, 120, 20))(inp_conc1)\n",
        "# # print(L3_2.shape)\n",
        "\n",
        "L3_3 = Conv2D(filters=16, kernel_size=(1, 15), strides=(1, 15), padding=\"same\", activation=\"relu\", input_shape=(1, 120, 20))(inp_conc1)\n",
        "# print(L3_3.shape)\n",
        "\n",
        "#L4\n",
        "L3_concat = models.Model(inputs=inp_conc1, outputs=concatenate([L3_1, L3_2, L3_3], axis=2))\n",
        "model.add(L3_concat)\n",
        "model.add(tf.keras.layers.Dropout(.5))\n",
        "# print(dp.shape)\n",
        "\n",
        "#L5\n",
        "L5_1 = Conv2D(filters=16, kernel_size=(1, 2), strides=(1, 2), padding=\"same\", activation=\"relu\", input_shape=(1, 44, 16))(inp_conc2)\n",
        "# print(L5_1.shape)\n",
        "\n",
        "L5_2 = Conv2D(filters=16, kernel_size=(1, 4), strides=(1, 4), padding=\"same\", activation=\"relu\", input_shape=(1, 44, 16))(inp_conc2)\n",
        "# print(L5_2.shape)\n",
        "\n",
        "L5_3 = Conv2D(filters=16, kernel_size=(1, 11), strides=(1, 11), padding=\"same\", activation=\"relu\", input_shape=(1, 44, 16))(inp_conc2)\n",
        "# print(L5_3.shape)\n",
        "\n",
        "#L6\n",
        "L5_concat = models.Model(inputs=inp_conc2, outputs=concatenate([L5_1, L5_2, L5_3], axis=2))\n",
        "model.add(L5_concat)\n",
        "model.add(tf.keras.layers.Dropout(.5))\n",
        "# print(dp2.shape)\n",
        "\n",
        "#L7\n",
        "model.add(layers.MaxPooling2D((2, 2), strides=2, padding='same'))\n",
        "# print(mxpool.shape)\n",
        "\n",
        "#L8 \n",
        "model.add(layers.Flatten())\n",
        "model.add(layers.Dense(100, activation='relu'))\n",
        "model.add(layers.Dense(2, activation='relu'))\n",
        "# print(dense.shape)\n",
        "# print(dense2.shape)\n",
        "\n",
        "#L9\n",
        "model.add(layers.Softmax(axis=1))\n",
        "model.compile(optimizer='adam',\n",
        "              loss=tf.keras.losses.SparseCategoricalCrossentropy(from_logits=True),\n",
        "              metrics=['accuracy'])\n",
        "print(model.summary())"
      ],
      "execution_count": null,
      "outputs": [
        {
          "output_type": "stream",
          "text": [
            "Model: \"sequential_13\"\n",
            "_________________________________________________________________\n",
            "Layer (type)                 Output Shape              Param #   \n",
            "=================================================================\n",
            "conv2d_86 (Conv2D)           (None, 1, 120, 20)        180       \n",
            "_________________________________________________________________\n",
            "model_24 (Functional)        (None, 1, 44, 16)         9648      \n",
            "_________________________________________________________________\n",
            "dropout_24 (Dropout)         (None, 1, 44, 16)         0         \n",
            "_________________________________________________________________\n",
            "model_25 (Functional)        (None, 1, 37, 16)         4400      \n",
            "_________________________________________________________________\n",
            "dropout_25 (Dropout)         (None, 1, 37, 16)         0         \n",
            "_________________________________________________________________\n",
            "max_pooling2d_12 (MaxPooling (None, 1, 19, 16)         0         \n",
            "_________________________________________________________________\n",
            "flatten_12 (Flatten)         (None, 304)               0         \n",
            "_________________________________________________________________\n",
            "dense_24 (Dense)             (None, 100)               30500     \n",
            "_________________________________________________________________\n",
            "dense_25 (Dense)             (None, 2)                 202       \n",
            "_________________________________________________________________\n",
            "softmax_12 (Softmax)         (None, 2)                 0         \n",
            "=================================================================\n",
            "Total params: 44,930\n",
            "Trainable params: 44,930\n",
            "Non-trainable params: 0\n",
            "_________________________________________________________________\n",
            "None\n"
          ],
          "name": "stdout"
        }
      ]
    },
    {
      "cell_type": "markdown",
      "metadata": {
        "id": "kyeaU6p3O-wb"
      },
      "source": [
        "60 dim"
      ]
    },
    {
      "cell_type": "code",
      "metadata": {
        "id": "yO-n4x0ORca7",
        "colab": {
          "base_uri": "https://localhost:8080/"
        },
        "outputId": "8fab5c54-bfc6-4b1a-bb07-dfc71f08e9f0"
      },
      "source": [
        "model = models.Sequential()\n",
        "inp_conc1 = Input(shape=(1, 60, 20))\n",
        "inp_conc2 = Input(shape=(1, 22, 16))\n",
        "\n",
        "#l2\n",
        "model.add(Conv2D(20, (8, 1), activation=\"relu\", strides=(8, 1), padding='same', input_shape=(8, 60, 1))) #just change kernel size here and you should be good to go with any array\n",
        "# print(L2.shape) #0th index: # of batches, 1st index: height of output, 2nd index: width of output, 3rd index: depth -> # of filters\n",
        "#l3\n",
        "L3_1 = Conv2D(filters=16, kernel_size=(1, 5), strides=(1, 5), padding=\"same\", activation=\"relu\", input_shape=(1, 60, 20))(inp_conc1)\n",
        "# print(L3_1.shape)\n",
        "\n",
        "L3_2 = Conv2D(filters=16, kernel_size=(1, 10), strides=(1, 10), padding=\"same\", activation=\"relu\", input_shape=(1, 60, 20))(inp_conc1)\n",
        "# # print(L3_2.shape)\n",
        "\n",
        "L3_3 = Conv2D(filters=16, kernel_size=(1, 15), strides=(1, 15), padding=\"same\", activation=\"relu\", input_shape=(1, 60, 20))(inp_conc1)\n",
        "# print(L3_3.shape)\n",
        "\n",
        "#L4\n",
        "L3_concat = models.Model(inputs=inp_conc1, outputs=concatenate([L3_1, L3_2, L3_3], axis=2))\n",
        "model.add(L3_concat)\n",
        "model.add(tf.keras.layers.Dropout(.5))\n",
        "# print(dp.shape)\n",
        "\n",
        "#L5\n",
        "L5_1 = Conv2D(filters=16, kernel_size=(1, 2), strides=(1, 2), padding=\"same\", activation=\"relu\", input_shape=(1, 44, 16))(inp_conc2)\n",
        "# print(L5_1.shape)\n",
        "\n",
        "L5_2 = Conv2D(filters=16, kernel_size=(1, 4), strides=(1, 4), padding=\"same\", activation=\"relu\", input_shape=(1, 44, 16))(inp_conc2)\n",
        "# print(L5_2.shape)\n",
        "\n",
        "L5_3 = Conv2D(filters=16, kernel_size=(1, 11), strides=(1, 11), padding=\"same\", activation=\"relu\", input_shape=(1, 44, 16))(inp_conc2)\n",
        "# print(L5_3.shape)\n",
        "\n",
        "#L6\n",
        "L5_concat = models.Model(inputs=inp_conc2, outputs=concatenate([L5_1, L5_2, L5_3], axis=2))\n",
        "model.add(L5_concat)\n",
        "model.add(tf.keras.layers.Dropout(.5))\n",
        "# print(dp2.shape)\n",
        "\n",
        "#L7\n",
        "model.add(layers.MaxPooling2D((2, 2), strides=2, padding='same'))\n",
        "# print(mxpool.shape)\n",
        "\n",
        "#L8 \n",
        "model.add(layers.Flatten())\n",
        "model.add(layers.Dense(100, activation='relu'))\n",
        "model.add(layers.Dense(2, activation='relu'))\n",
        "# print(dense.shape)\n",
        "# print(dense2.shape)\n",
        "\n",
        "#L9\n",
        "model.add(layers.Softmax(axis=1))\n",
        "model.compile(optimizer='adam',\n",
        "              loss=tf.keras.losses.SparseCategoricalCrossentropy(from_logits=True),\n",
        "              metrics=['accuracy'])\n",
        "print(model.summary())"
      ],
      "execution_count": null,
      "outputs": [
        {
          "output_type": "stream",
          "text": [
            "Model: \"sequential_6\"\n",
            "_________________________________________________________________\n",
            "Layer (type)                 Output Shape              Param #   \n",
            "=================================================================\n",
            "conv2d_42 (Conv2D)           (None, 1, 60, 20)         180       \n",
            "_________________________________________________________________\n",
            "model_12 (Functional)        (None, 1, 22, 16)         9648      \n",
            "_________________________________________________________________\n",
            "dropout_12 (Dropout)         (None, 1, 22, 16)         0         \n",
            "_________________________________________________________________\n",
            "model_13 (Functional)        (None, 1, 19, 16)         4400      \n",
            "_________________________________________________________________\n",
            "dropout_13 (Dropout)         (None, 1, 19, 16)         0         \n",
            "_________________________________________________________________\n",
            "max_pooling2d_6 (MaxPooling2 (None, 1, 10, 16)         0         \n",
            "_________________________________________________________________\n",
            "flatten_6 (Flatten)          (None, 160)               0         \n",
            "_________________________________________________________________\n",
            "dense_10 (Dense)             (None, 100)               16100     \n",
            "_________________________________________________________________\n",
            "dense_11 (Dense)             (None, 2)                 202       \n",
            "=================================================================\n",
            "Total params: 30,530\n",
            "Trainable params: 30,530\n",
            "Non-trainable params: 0\n",
            "_________________________________________________________________\n",
            "None\n"
          ],
          "name": "stdout"
        }
      ]
    },
    {
      "cell_type": "markdown",
      "metadata": {
        "id": "kHUyRZWmRhto"
      },
      "source": [
        "Dynamic"
      ]
    },
    {
      "cell_type": "code",
      "metadata": {
        "colab": {
          "base_uri": "https://localhost:8080/"
        },
        "id": "yK4tWVTPN4kE",
        "outputId": "7388175b-2158-43f4-d899-e1525042d2bb"
      },
      "source": [
        "model = models.Sequential()\n",
        "dim = PCA_val.shape[2]  \n",
        "inp_conc1 = Input(shape=(1, dim, 20))\n",
        "inp_conc2 = Input(shape=(1, int(dim/5+dim/10+dim/15), 16))\n",
        "\n",
        "#l2\n",
        "model.add(Conv2D(20, (8, 1), activation=\"relu\", strides=(8, 1), padding='same', input_shape=(8, 60, 1))) #just change kernel size here and you should be good to go with any array\n",
        "# print(L2.shape) #0th index: # of batches, 1st index: height of output, 2nd index: width of output, 3rd index: depth -> # of filters\n",
        "#l3\n",
        "L3_1 = Conv2D(filters=16, kernel_size=(1, 5), strides=(1, 5), padding=\"same\", activation=\"relu\")(inp_conc1)\n",
        "# print(L3_1.shape)\n",
        "\n",
        "L3_2 = Conv2D(filters=16, kernel_size=(1, 10), strides=(1, 10), padding=\"same\", activation=\"relu\")(inp_conc1)\n",
        "# # print(L3_2.shape)\n",
        "\n",
        "L3_3 = Conv2D(filters=16, kernel_size=(1, 15), strides=(1, 15), padding=\"same\", activation=\"relu\")(inp_conc1)\n",
        "# print(L3_3.shape)\n",
        "\n",
        "#L4\n",
        "L3_concat = models.Model(inputs=inp_conc1, outputs=concatenate([L3_1, L3_2, L3_3], axis=2))\n",
        "model.add(L3_concat)\n",
        "model.add(tf.keras.layers.Dropout(.5))\n",
        "# print(dp.shape)\n",
        "\n",
        "#L5\n",
        "L5_1 = Conv2D(filters=16, kernel_size=(1, 2), strides=(1, 2), padding=\"same\", activation=\"relu\")(inp_conc2)\n",
        "# print(L5_1.shape)\n",
        "\n",
        "L5_2 = Conv2D(filters=16, kernel_size=(1, 4), strides=(1, 4), padding=\"same\", activation=\"relu\")(inp_conc2)\n",
        "# print(L5_2.shape)\n",
        "\n",
        "L5_3 = Conv2D(filters=16, kernel_size=(1, 11), strides=(1, 11), padding=\"same\", activation=\"relu\")(inp_conc2)\n",
        "# print(L5_3.shape)\n",
        "\n",
        "#L6\n",
        "L5_concat = models.Model(inputs=inp_conc2, outputs=concatenate([L5_1, L5_2, L5_3], axis=2))\n",
        "model.add(L5_concat)\n",
        "model.add(tf.keras.layers.Dropout(.5))\n",
        "# print(dp2.shape)\n",
        "\n",
        "#L7\n",
        "model.add(layers.MaxPooling2D((2, 2), strides=2, padding='same'))\n",
        "# print(mxpool.shape)\n",
        "\n",
        "#L8 \n",
        "model.add(layers.Flatten())\n",
        "model.add(layers.Dense(100, activation='relu'))\n",
        "model.add(layers.Dense(2, activation=tf.keras.activations.softmax)) #fix this, figure out softmax dense layer\n",
        "# print(dense.shape)\n",
        "# print(dense2.shape)\n",
        "\n",
        "# #L9\n",
        "# model.add(layers.Softmax(axis=1))\n",
        "\n",
        "model.compile(optimizer='adam',\n",
        "              loss=tf.keras.losses.SparseCategoricalCrossentropy(from_logits=False),\n",
        "              metrics=['accuracy'])\n",
        "print(model.summary())"
      ],
      "execution_count": null,
      "outputs": [
        {
          "output_type": "stream",
          "text": [
            "Model: \"sequential\"\n",
            "_________________________________________________________________\n",
            "Layer (type)                 Output Shape              Param #   \n",
            "=================================================================\n",
            "conv2d (Conv2D)              (None, 1, 60, 20)         180       \n",
            "_________________________________________________________________\n",
            "model (Functional)           (None, 1, 22, 16)         9648      \n",
            "_________________________________________________________________\n",
            "dropout (Dropout)            (None, 1, 22, 16)         0         \n",
            "_________________________________________________________________\n",
            "model_1 (Functional)         (None, 1, 19, 16)         4400      \n",
            "_________________________________________________________________\n",
            "dropout_1 (Dropout)          (None, 1, 19, 16)         0         \n",
            "_________________________________________________________________\n",
            "max_pooling2d (MaxPooling2D) (None, 1, 10, 16)         0         \n",
            "_________________________________________________________________\n",
            "flatten (Flatten)            (None, 160)               0         \n",
            "_________________________________________________________________\n",
            "dense (Dense)                (None, 100)               16100     \n",
            "_________________________________________________________________\n",
            "dense_1 (Dense)              (None, 2)                 202       \n",
            "=================================================================\n",
            "Total params: 30,530\n",
            "Trainable params: 30,530\n",
            "Non-trainable params: 0\n",
            "_________________________________________________________________\n",
            "None\n"
          ],
          "name": "stdout"
        }
      ]
    },
    {
      "cell_type": "markdown",
      "metadata": {
        "id": "bb-A3jje0tOy"
      },
      "source": [
        "Training"
      ]
    },
    {
      "cell_type": "code",
      "metadata": {
        "colab": {
          "base_uri": "https://localhost:8080/"
        },
        "id": "ayKcgeXO0siD",
        "outputId": "850e7b03-f51c-41df-aa89-137664155a26"
      },
      "source": [
        "history = model.fit(PCA_train, T_labels, epochs=30, \n",
        "                    validation_data=(PCA_val, V_labels))"
      ],
      "execution_count": null,
      "outputs": [
        {
          "output_type": "stream",
          "text": [
            "Epoch 1/30\n",
            "176/176 [==============================] - 2s 7ms/step - loss: 0.7065 - accuracy: 0.5143 - val_loss: 0.6586 - val_accuracy: 0.7429\n",
            "Epoch 2/30\n",
            "176/176 [==============================] - 1s 6ms/step - loss: 0.6850 - accuracy: 0.5504 - val_loss: 0.6306 - val_accuracy: 0.7726\n",
            "Epoch 3/30\n",
            "176/176 [==============================] - 1s 6ms/step - loss: 0.6704 - accuracy: 0.5818 - val_loss: 0.6671 - val_accuracy: 0.5702\n",
            "Epoch 4/30\n",
            "176/176 [==============================] - 1s 6ms/step - loss: 0.6410 - accuracy: 0.6200 - val_loss: 0.6277 - val_accuracy: 0.6667\n",
            "Epoch 5/30\n",
            "176/176 [==============================] - 1s 6ms/step - loss: 0.6127 - accuracy: 0.6563 - val_loss: 0.6004 - val_accuracy: 0.6964\n",
            "Epoch 6/30\n",
            "176/176 [==============================] - 1s 7ms/step - loss: 0.5841 - accuracy: 0.6868 - val_loss: 0.5940 - val_accuracy: 0.7036\n",
            "Epoch 7/30\n",
            "176/176 [==============================] - 1s 6ms/step - loss: 0.5535 - accuracy: 0.7071 - val_loss: 0.6512 - val_accuracy: 0.5988\n",
            "Epoch 8/30\n",
            "176/176 [==============================] - 1s 6ms/step - loss: 0.5235 - accuracy: 0.7328 - val_loss: 0.5937 - val_accuracy: 0.7000\n",
            "Epoch 9/30\n",
            "176/176 [==============================] - 1s 6ms/step - loss: 0.4943 - accuracy: 0.7488 - val_loss: 0.6786 - val_accuracy: 0.6298\n",
            "Epoch 10/30\n",
            "176/176 [==============================] - 1s 6ms/step - loss: 0.4659 - accuracy: 0.7640 - val_loss: 0.6404 - val_accuracy: 0.7000\n",
            "Epoch 11/30\n",
            "176/176 [==============================] - 1s 6ms/step - loss: 0.4477 - accuracy: 0.7856 - val_loss: 0.6487 - val_accuracy: 0.6845\n",
            "Epoch 12/30\n",
            "176/176 [==============================] - 1s 6ms/step - loss: 0.4180 - accuracy: 0.8034 - val_loss: 0.7003 - val_accuracy: 0.7155\n",
            "Epoch 13/30\n",
            "176/176 [==============================] - 1s 6ms/step - loss: 0.4068 - accuracy: 0.8059 - val_loss: 0.7290 - val_accuracy: 0.6560\n",
            "Epoch 14/30\n",
            "176/176 [==============================] - 1s 6ms/step - loss: 0.3969 - accuracy: 0.8118 - val_loss: 0.7339 - val_accuracy: 0.6893\n",
            "Epoch 15/30\n",
            "176/176 [==============================] - 1s 6ms/step - loss: 0.3892 - accuracy: 0.8178 - val_loss: 0.7480 - val_accuracy: 0.6940\n",
            "Epoch 16/30\n",
            "176/176 [==============================] - 1s 6ms/step - loss: 0.3752 - accuracy: 0.8234 - val_loss: 0.7930 - val_accuracy: 0.7286\n",
            "Epoch 17/30\n",
            "176/176 [==============================] - 1s 6ms/step - loss: 0.3555 - accuracy: 0.8353 - val_loss: 0.8255 - val_accuracy: 0.6881\n",
            "Epoch 18/30\n",
            "176/176 [==============================] - 1s 6ms/step - loss: 0.3450 - accuracy: 0.8349 - val_loss: 0.8255 - val_accuracy: 0.6929\n",
            "Epoch 19/30\n",
            "176/176 [==============================] - 1s 6ms/step - loss: 0.3357 - accuracy: 0.8444 - val_loss: 0.8497 - val_accuracy: 0.6893\n",
            "Epoch 20/30\n",
            "176/176 [==============================] - 1s 6ms/step - loss: 0.3401 - accuracy: 0.8383 - val_loss: 0.8601 - val_accuracy: 0.6988\n",
            "Epoch 21/30\n",
            "176/176 [==============================] - 1s 6ms/step - loss: 0.3296 - accuracy: 0.8419 - val_loss: 0.8681 - val_accuracy: 0.6762\n",
            "Epoch 22/30\n",
            "176/176 [==============================] - 1s 6ms/step - loss: 0.3162 - accuracy: 0.8483 - val_loss: 0.9598 - val_accuracy: 0.7083\n",
            "Epoch 23/30\n",
            "176/176 [==============================] - 1s 6ms/step - loss: 0.3158 - accuracy: 0.8496 - val_loss: 0.9080 - val_accuracy: 0.6833\n",
            "Epoch 24/30\n",
            "176/176 [==============================] - 1s 6ms/step - loss: 0.3144 - accuracy: 0.8563 - val_loss: 0.9648 - val_accuracy: 0.7024\n",
            "Epoch 25/30\n",
            "176/176 [==============================] - 1s 6ms/step - loss: 0.3025 - accuracy: 0.8524 - val_loss: 0.9643 - val_accuracy: 0.7119\n",
            "Epoch 26/30\n",
            "176/176 [==============================] - 1s 6ms/step - loss: 0.2935 - accuracy: 0.8684 - val_loss: 0.9695 - val_accuracy: 0.6964\n",
            "Epoch 27/30\n",
            "176/176 [==============================] - 1s 6ms/step - loss: 0.2909 - accuracy: 0.8658 - val_loss: 0.9602 - val_accuracy: 0.6869\n",
            "Epoch 28/30\n",
            "176/176 [==============================] - 1s 6ms/step - loss: 0.2756 - accuracy: 0.8718 - val_loss: 1.0091 - val_accuracy: 0.7238\n",
            "Epoch 29/30\n",
            "176/176 [==============================] - 1s 6ms/step - loss: 0.2873 - accuracy: 0.8663 - val_loss: 0.9726 - val_accuracy: 0.7107\n",
            "Epoch 30/30\n",
            "176/176 [==============================] - 1s 6ms/step - loss: 0.2795 - accuracy: 0.8717 - val_loss: 1.1027 - val_accuracy: 0.7143\n"
          ],
          "name": "stdout"
        }
      ]
    },
    {
      "cell_type": "code",
      "metadata": {
        "colab": {
          "base_uri": "https://localhost:8080/",
          "height": 317
        },
        "id": "E7hPM0Qs8bTn",
        "outputId": "2485e618-bc7f-41b3-8c9a-b61c46e54beb"
      },
      "source": [
        "plt.plot(history.history['accuracy'], label='accuracy')\n",
        "plt.plot(history.history['val_accuracy'], label = 'val_accuracy')\n",
        "plt.xlabel('Epoch')\n",
        "plt.ylabel('Accuracy')\n",
        "plt.ylim([0.5, 1])\n",
        "plt.legend(loc='lower right')\n",
        "\n",
        "test_loss, test_acc = model.evaluate(PCA_val,  V_labels, verbose=2)\n",
        "y_pred = np.argmax(model.predict(PCA_val), axis=-1)\n",
        "print(y_pred.shape) #TRY ARGMAX\n",
        "\n",
        "# plt.plot(y_pred[:, 0], label='accuracy')\n",
        "# plt.plot(y_pred[:, 1], label = 'val_accuracy')\n",
        "# plt.xlabel('Epoch')\n",
        "# plt.ylabel('Pred')\n",
        "# plt.ylim([0, 1])\n",
        "# plt.legend(loc='lower right')"
      ],
      "execution_count": null,
      "outputs": [
        {
          "output_type": "stream",
          "text": [
            "27/27 - 0s - loss: 1.1027 - accuracy: 0.7143\n",
            "(840,)\n"
          ],
          "name": "stdout"
        },
        {
          "output_type": "display_data",
          "data": {
            "image/png": "[encoded data removed]",
            "text/plain": [
              "<Figure size 432x288 with 1 Axes>"
            ]
          },
          "metadata": {
            "tags": [],
            "needs_background": "light"
          }
        }
      ]
    },
    {
      "cell_type": "code",
      "metadata": {
        "colab": {
          "base_uri": "https://localhost:8080/"
        },
        "id": "lGmX3JPzhoM0",
        "outputId": "c9620e20-32fe-412b-d5e6-bfa161937f30"
      },
      "source": [
        "#test data\n",
        "\n",
        "with open(\"s4.pkl\", \"rb\") as infile:\n",
        "    big_data = pickle.load(infile)\n",
        "\n",
        "print([i for i in big_data[:, 1]]) #use these to decode with a simple if loop ->  not super sure if each stim represents one flash\n",
        "\n",
        "'''\n",
        "'''\n",
        "\n",
        "# train_data = train_data[:(len(train_data)*10//100)]\n",
        "\n",
        "test_data = np.array([i for i in big_data[:, 0]])\n",
        "test_labels = np.array([i for i in big_data[:, 1]])\n",
        "test_stim = np.array([i for i in big_data[:, 2]])\n",
        "\n",
        "# with open(f\"labels.pkl\", \"wb\") as outfile:\n",
        "#   pickle.dump([T_labels, V_labels], outfile)\n"
      ],
      "execution_count": null,
      "outputs": [
        {
          "output_type": "stream",
          "text": [
            "[0, 0, 0, 1, 0, 0, 0, 0, 0, 0, 1, 0, 0, 0, 0, 0, 1, 1, 0, 0, 0, 0, 0, 0, 0, 1, 0, 0, 0, 0, 0, 0, 1, 0, 0, 0, 0, 0, 0, 0, 0, 0, 1, 0, 0, 1, 0, 0, 0, 0, 0, 0, 0, 0, 0, 1, 0, 0, 1, 0, 0, 0, 0, 1, 0, 0, 0, 0, 0, 0, 1, 0, 1, 0, 0, 0, 0, 1, 0, 0, 0, 0, 0, 0, 0, 0, 0, 0, 1, 0, 0, 0, 0, 1, 0, 0, 1, 0, 0, 0, 0, 0, 0, 1, 0, 0, 0, 0, 0, 0, 0, 1, 0, 0, 0, 0, 0, 0, 1, 0, 1, 0, 0, 0, 0, 1, 0, 0, 0, 0, 0, 0, 0, 0, 1, 0, 0, 1, 0, 0, 0, 0, 0, 0, 0, 0, 0, 1, 0, 0, 1, 0, 0, 0, 0, 0, 0, 1, 0, 0, 0, 0, 1, 0, 0, 0, 0, 0, 0, 0, 0, 0, 0, 1, 0, 0, 0, 0, 1, 0, 0, 0, 0, 0, 1, 0, 0, 0, 0, 1, 0, 0, 0, 0, 0, 0, 1, 1, 0, 0, 0, 0, 0, 0, 0, 0, 0, 1, 0, 0, 0, 0, 1, 0, 0, 0, 0, 0, 0, 0, 1, 0, 0, 1, 0, 0, 0, 0, 1, 0, 0, 0, 0, 0, 0, 1, 0, 0, 0, 0, 0, 0, 0, 0, 0, 0, 0, 0, 0, 0, 1, 1, 0, 0, 0, 0, 1, 1, 0, 0, 0, 0, 0, 0, 0, 1, 0, 0, 1, 0, 0, 0, 0, 0, 0, 0, 1, 0, 0, 1, 0, 0, 0, 0, 0, 0, 0, 0, 0, 1, 0, 0, 1, 0, 0, 0, 0, 0, 0, 0, 0, 0, 0, 0, 0, 0, 0, 0, 1, 1, 0, 0, 0, 0, 0, 0, 0, 0, 1, 1, 0, 0, 0, 0, 0, 0, 0, 0, 0, 0, 0, 0, 1, 1, 0, 0, 0, 0, 1, 0, 0, 0, 0, 0, 0, 0, 0, 1, 0, 1, 0, 0, 0, 0, 0, 0, 1, 0, 0, 0, 1, 0, 0, 0, 0, 0, 0, 0, 0, 0, 0, 1, 0, 1, 0, 0, 0, 0, 1, 0, 0, 0, 0, 0, 0, 0, 0, 0, 0, 0, 0, 1, 0, 0, 1, 0, 0, 0, 0, 0, 1, 1, 0, 0, 0, 0, 0, 0, 0, 0, 1, 0, 0, 0, 0, 1, 0, 0, 0, 0, 0, 0, 0, 0, 0, 1, 0, 0, 0, 0, 1, 0, 0, 0, 0, 0, 0, 0, 1, 1, 0, 0, 0, 0, 1, 1, 0, 0, 0, 0, 0, 0, 0, 0, 0, 0, 0, 0, 0, 0, 0, 0, 0, 1, 1, 0, 0, 0, 1, 0, 0, 0, 0, 0, 0, 0, 0, 1, 0, 0, 0, 0, 0, 0, 0, 0, 0, 0, 1, 0, 0, 1, 0, 0, 0, 0, 0, 0, 0, 1, 0, 0, 1, 0, 0, 1, 0, 0, 0, 0, 1, 0, 0, 0, 0, 0, 0, 0, 0, 0, 1, 0, 0, 0, 0, 0, 0, 1, 0, 0, 0, 1, 1, 0, 0, 0, 0, 0, 0, 0, 1, 0, 0, 1, 0, 0, 0, 0, 0, 0, 0, 0, 0, 0, 0, 1, 0, 0, 1, 0, 0, 0, 0, 0, 0, 0, 0, 0, 0, 0, 0, 0, 1, 1, 0, 0, 1, 0, 0, 1, 0, 0, 0, 0, 0, 0, 0, 0, 0, 0, 1, 0, 0, 0, 0, 0, 0, 0, 0, 1, 0, 0, 0, 0, 0, 1, 0, 0, 1, 0, 0, 0, 0, 0, 0, 0, 1, 0, 0, 0, 0, 1, 0, 0, 0, 0, 0, 0, 0, 0, 0, 0, 1, 1, 0, 0, 1, 0, 0, 1, 0, 0, 0, 0, 0, 0, 0, 0, 0, 0, 0, 0, 0, 0, 0, 1, 1, 0, 0, 0, 0, 0, 0, 1, 1, 0, 0, 0, 0, 0, 0, 0, 0, 1, 0, 0, 1, 0, 0, 0, 0, 0, 0, 0, 0, 0, 0, 0, 0, 1, 0, 0, 1, 0, 0, 0, 0, 0, 1, 0, 0, 0, 0, 0, 0, 0, 0, 1, 0, 1, 0, 0, 0, 0, 0, 0, 0, 0, 1, 0, 0, 0, 0, 0, 1, 0, 0, 1, 0, 0, 0, 0, 1, 0, 0, 0, 0, 0, 0, 1, 0, 0, 0, 0, 0, 1, 0, 0, 1, 0, 0, 0, 0, 0, 0, 0, 0, 0, 0, 0, 0, 0, 0, 0, 1, 0, 0, 1, 0, 0, 1, 0, 0, 0, 0, 0, 0, 0, 0, 1, 0, 0, 0, 0, 0, 0, 0, 0, 1, 1, 0, 0, 0, 0, 0, 1, 0, 0, 0, 0, 1, 0, 0, 0, 0, 0, 0, 1, 1, 0, 0, 0, 0, 0, 0, 0, 0, 0, 0, 0, 0, 0, 0, 0, 1, 1, 0, 0, 1, 0, 0, 0, 0, 0, 0, 1, 0, 0, 0, 0, 0, 0, 0, 0, 0, 1, 0, 0, 1, 0, 0, 0, 0, 0, 1, 0, 0, 0, 0, 0, 0, 0, 0, 1, 0, 1, 1, 0, 0, 0, 0, 0, 0, 0, 0, 0, 0, 0, 0, 1, 1, 0, 0, 0, 0, 0, 0, 0, 0, 0, 0, 0, 1, 0, 0, 0, 0, 0, 0, 1, 0, 1, 0, 0, 0, 0, 0, 0, 0, 0, 1, 0, 0, 0, 0, 1, 0, 0, 0, 0, 1, 0, 0, 0, 0, 0, 0, 0, 0, 0, 1, 0, 0, 1, 0, 0, 1, 1, 0, 0, 0, 0, 0, 0, 0, 0, 0, 0, 1, 1, 0, 0, 0, 0, 0, 0, 0, 0, 0, 0, 0, 0, 0, 1, 0, 0, 0, 0, 0, 0, 1, 0, 0, 0, 1, 0, 0, 0, 0, 0, 0, 0, 0, 1, 0, 0, 0, 0, 0, 0, 0, 1, 0, 0, 1, 0, 0, 0, 0, 0, 0, 0, 1, 0, 0, 0, 0, 1, 0, 0, 1, 1, 0, 0, 0, 0, 0, 0, 0, 0, 1, 0, 0, 0, 0, 1, 0, 0, 0, 0, 0, 0, 0, 0, 1, 0, 0, 0, 0, 0, 0, 0, 0, 1, 0, 0, 0, 0, 0, 0, 0, 0, 0, 0, 1, 1, 0, 0, 0, 0, 0, 0, 0, 1, 0, 0, 1, 0, 0, 0, 0, 0, 0, 0, 1, 1, 0, 0, 0, 0, 1, 0, 0, 0, 0, 0, 0, 0, 0, 1, 0, 0, 0, 0, 0, 1, 0, 0, 0, 0, 1, 0, 0, 0, 0, 0, 1, 0, 0, 0, 0, 1, 0, 0, 0, 0, 0, 0, 0, 0, 1, 0, 0, 1, 0, 0, 0, 0, 1, 0, 0, 0, 0, 1, 0, 0, 0, 0, 0, 0, 0, 0, 0, 1, 0, 0, 0, 0, 0, 0, 1, 0, 1, 0, 0, 0, 0, 0, 0, 1, 0, 0, 0, 0, 0, 0, 0, 0, 0, 0, 1, 1, 0, 0, 0, 0, 0, 1, 0, 0, 0, 0, 0, 0, 0, 0, 1, 0, 0, 1, 1, 0, 0, 0, 0, 0, 0, 0, 0, 0, 0, 0, 1, 0, 0, 0, 0, 1, 0, 0, 0, 0, 0, 0, 0, 0, 0, 0, 0, 1, 0, 0, 1, 0, 0, 0, 1, 0, 0, 0, 0, 1, 0, 0, 0, 0, 0, 0, 0, 0, 0, 1, 0, 0, 0, 0, 1, 0, 0, 0, 0, 0, 0, 1, 1, 0, 0, 0, 0, 0, 0, 0, 0, 0, 1, 0, 0, 1, 0, 0, 0, 0, 0, 0, 0, 0, 0, 0, 0, 0, 0, 1, 1, 0, 0, 0, 0, 0, 1, 0, 0, 0, 0, 0, 0, 1, 0, 0, 1, 1, 0, 0, 0, 0, 0, 0, 0, 0, 1, 0, 0, 0, 0, 0, 0, 0, 0, 1, 0, 0, 0, 0, 0, 0, 0, 0, 0, 0, 1, 1, 0, 0, 0, 0, 1, 0, 0, 0, 0, 0, 0, 1, 0, 0, 1, 0, 0, 0, 0, 0, 0, 0, 0, 1, 0, 0, 0, 0, 0, 1, 1, 0, 0, 0, 0, 0, 0, 0, 1, 0, 0, 0, 0, 1, 0, 0, 0, 0, 0, 0, 0, 0, 0, 0, 0, 1, 0, 0, 1, 0, 0, 0, 0, 0, 1, 0, 0, 0, 0, 0, 0, 0, 0, 1, 0, 0, 0, 0, 0, 0, 0, 0, 0, 0, 1, 1, 1, 1, 0, 0, 0, 0, 0, 0, 0, 0, 0, 0, 0, 0, 0, 0, 0, 0, 1, 1, 0, 0, 0, 0, 0, 0, 0, 1, 0, 0, 1, 0, 0, 0, 0, 0, 0, 0, 1, 0, 0, 0, 0, 0, 0, 1, 0, 0, 0, 1, 0, 0, 0, 0, 0, 0, 0, 0, 1, 0, 1, 0, 0, 0, 0, 0, 0, 1, 0, 0, 0, 0, 0, 0, 0, 0, 0, 1, 1, 0, 0, 0, 0, 0, 0, 0, 0, 0, 0, 1, 0, 0, 1, 0, 0, 0, 0, 1, 0, 0, 0, 0, 0, 0, 0, 0, 1, 0, 1, 0, 0, 0, 0, 0, 0, 1, 0, 0, 0, 0, 0, 1, 0, 0, 0, 0, 0, 0, 0, 0, 1, 0, 0, 0, 0, 0, 0, 1, 1, 0, 0, 0, 0, 0, 0, 0, 0, 0, 0, 0, 0, 1, 1, 0, 0, 0, 1, 0, 0, 0, 0, 0, 0, 1, 0, 0, 0, 0, 0, 0, 0, 1, 0, 0, 1, 0, 0, 0, 0, 0, 0, 0, 0, 0, 0, 0, 0, 1, 1, 0, 0, 0, 0, 0, 1, 1, 0, 0, 0, 0, 0, 0, 0, 0, 0, 0, 0, 0, 0, 0, 0, 0, 1, 1, 0, 0, 0, 0, 0, 0, 0, 0, 0, 1, 1, 0, 0, 0, 0, 0, 0, 0, 0, 1, 1, 0, 0, 0, 0, 0, 0, 0, 0, 0, 0, 0, 0, 0, 1, 1, 0, 0, 1, 0, 0, 0, 0, 0, 0, 0, 0, 0, 0, 1, 0, 0, 1, 1, 0, 0, 0, 0, 0, 0, 0, 0, 0, 0, 0, 0, 0, 1, 0, 0, 1, 0, 0, 0, 0, 0, 1, 0, 0, 0, 0, 0, 0, 1, 0, 0, 0, 0, 1, 0, 0, 0, 0, 1, 0, 0, 0, 0, 1, 0, 0, 1, 0, 0, 0, 0, 0, 0, 0, 0, 0, 0, 0, 0, 0, 1, 0, 0, 0, 0, 1, 0, 0, 0, 0, 1, 0, 0, 0, 0, 1, 0, 0, 0, 0, 0, 0, 0, 1, 0, 0, 1, 0, 0, 0, 0, 0, 0, 1, 0, 0, 0, 0, 1, 0, 0, 0, 0, 1, 0, 0, 0, 0, 1, 0, 0, 0, 0, 0, 0, 0, 0, 0, 0, 0, 0, 1, 0, 0, 1, 0, 0, 1, 0, 0, 0, 0, 0, 0, 0, 0, 1, 0, 0, 0, 0, 0, 1, 0, 0, 1, 0, 0, 0, 0, 0, 0, 0, 0, 1, 1, 0, 0, 0, 0, 0, 0, 0, 0, 0, 0, 0, 1, 0, 0, 0, 0, 1, 0, 0, 0, 0, 0, 1, 1, 0, 0, 0, 0, 0, 0, 0, 0, 0, 0, 0, 0, 0, 0, 0, 0, 0, 1, 1, 0, 0, 0, 0, 0, 0, 0, 0, 0, 0, 1, 1, 0, 0, 0, 0, 1, 0, 0, 0, 0, 0, 0, 1, 0, 0, 0, 1, 0, 0, 0, 0, 1, 0, 0, 0, 0, 0, 0, 0, 0, 0, 0, 0, 1, 0, 0, 1, 0, 0, 0, 0, 0, 0, 0, 0, 1, 1, 0, 0, 0, 0, 0, 0, 0, 0, 1, 0, 0, 0, 0, 1, 1, 0, 0, 0, 0, 0, 0, 0, 0, 0, 0, 1, 0, 0, 0, 1, 0, 0, 0, 0, 1, 0, 0, 0, 1, 1, 0, 0, 0, 0, 0, 0, 0, 0, 0, 0, 0, 0, 1, 0, 0, 0, 0, 0, 0, 1, 0, 0, 1, 0, 0, 0, 0, 0, 0, 0, 0, 1, 0, 0, 0, 0, 0, 0, 0, 0, 0, 1, 0, 0, 1, 0, 1, 1, 0, 0, 0, 0, 0, 0, 0, 0, 0, 0, 0, 0, 0, 0, 0, 0, 0, 0, 0, 0, 1, 1, 1, 1, 0, 0, 0, 0, 0, 0, 0, 0, 0, 0, 0, 0, 0, 1, 0, 0, 0, 0, 1, 0, 0, 0, 0, 1, 0, 0, 0, 0, 1, 0, 0, 0, 0, 0, 0, 0, 0, 1, 0, 0, 0, 0, 0, 0, 1, 0, 0, 0, 0, 0, 0, 1, 0, 0, 1, 0, 0, 0, 0, 0, 0, 0, 0, 0, 0, 1, 1, 0, 0, 0, 0, 0, 1, 0, 0, 0, 0, 1, 0, 0, 0, 0, 1, 0, 0, 1, 0, 0, 0, 0, 0, 0, 0, 0, 0, 0, 0, 0, 1, 0, 0, 0, 0, 1, 0, 0, 0, 0, 0, 0, 0, 0, 0, 0, 0, 0, 1, 1, 0, 0, 0, 0, 0, 0, 0, 1, 1, 0, 0, 0, 0, 0, 0, 0, 1, 1, 0, 0, 0, 0, 0, 0, 0, 0, 0, 0, 0, 1, 0, 0, 1, 0, 0, 0, 0, 0, 0, 0, 0, 0, 1, 0, 0, 1, 0, 0, 1, 0, 0, 0, 0, 1, 0, 0, 0, 0, 0, 0, 0, 0, 0, 0, 0, 1, 0, 0, 1, 0, 0, 0, 0, 0, 0, 0, 0, 1, 0, 0, 0, 0, 1, 0, 0, 0, 0, 0, 1, 0, 0, 0, 0, 0, 0, 1, 0, 0, 0, 0, 0, 1, 0, 0, 1, 0, 0, 0, 0, 0, 0, 1, 0, 0, 0, 0, 1, 0, 0, 0, 0, 0, 0, 0, 1, 1, 0, 0, 0, 0, 0, 0, 0, 0, 0, 1, 0, 0, 0, 0, 0, 0, 1, 0, 1, 0, 0, 0, 0, 1, 0, 0, 0, 0, 0, 0, 0, 0, 0, 0, 1, 0, 0, 1, 0, 0, 0, 0, 0, 0, 0, 0, 0, 0, 0, 1, 0, 0, 1, 0, 0, 0, 0, 0, 1, 1, 0, 0, 0, 0, 0, 0, 0, 0, 1, 0, 0, 0, 0, 0, 0, 0, 0, 1, 0, 0, 0, 0, 0, 0, 1, 0, 0, 1, 0, 0, 0, 0, 0, 0, 0, 0, 0, 0, 0, 0, 1, 1, 0, 0, 0, 0, 0, 1, 1, 0, 0, 0, 0, 0, 0, 1, 0, 0, 0, 0, 0, 0, 1, 0, 0, 0, 0, 0, 0, 0, 0, 0, 0, 0, 0, 1, 1, 0, 0, 0, 0, 0, 0, 1, 0, 0, 1, 0, 0, 0, 0, 0, 0, 1, 1, 0, 0, 0, 0, 0, 0, 0, 0, 0, 0, 0, 0, 0, 0, 1, 1, 0, 0, 0, 0, 0, 0, 0, 0, 0, 0, 0, 0, 1, 1, 0, 0, 0, 0, 1, 0, 0, 1, 0, 0, 0, 0, 0, 0, 0, 1, 0, 0, 0, 0, 1, 0, 0, 0, 0, 0, 0, 0, 0, 0, 0, 0, 0, 1, 0, 0, 1, 1, 0, 0, 1, 0, 0, 0, 0, 0, 0, 0, 0, 0, 0, 0, 0, 0, 0, 1, 0, 0, 1, 0, 0, 1, 0, 0, 0, 0, 1, 0, 0, 0, 0, 0, 0, 0, 0, 0, 0, 0, 1, 0, 0, 1, 0, 0, 0, 1, 0, 0, 0, 0, 0, 0, 1, 0, 0, 0, 0, 0, 0, 0, 0, 0, 0, 0, 1, 1, 0, 0, 0, 0, 0, 0, 0, 0, 0, 0, 0, 0, 1, 1, 0, 0, 0, 0, 0, 0, 0, 0, 0, 1, 1, 0, 0, 1, 0, 0, 0, 0, 0, 0, 0, 0, 0, 0, 1, 0, 0, 0, 1, 0, 0, 0, 0, 0, 0, 1, 0, 0, 0, 0, 0, 1, 0, 0, 0, 0, 1, 0, 0, 1, 0, 0, 0, 0, 0, 0, 0, 0, 0, 0, 1, 0, 1, 1, 0, 0, 0, 0, 0, 0, 0, 0, 0, 0, 0, 0, 1, 1, 0, 0, 0, 0, 0, 0, 0, 0, 0, 0, 1, 1, 0, 0, 0, 0, 0, 0, 0, 1, 0, 0, 0, 0, 1, 0, 0, 0, 0, 0, 0, 0, 0, 0, 0, 0, 0, 0, 0, 0, 1, 1, 0, 0, 0, 0, 0, 1, 0, 0, 0, 0, 0, 0, 1, 0, 0, 0, 0, 0, 1, 0, 0, 1, 0, 0, 0, 1, 0, 0, 0, 0, 1, 0, 0, 0, 0, 0, 0, 0, 0, 1, 0, 0, 0, 0, 1, 0, 0, 0, 0, 1, 0, 0, 0, 0, 1, 0, 0, 0, 0, 0, 0, 0, 0, 0, 0, 1, 0, 0, 0, 0, 0, 0, 1, 0, 0, 0, 0, 1, 0, 0, 1, 0, 0, 0, 0, 0, 0, 1, 0, 0, 1, 0, 0, 0, 0, 0, 0, 0, 0, 0, 0, 1, 0, 0, 1, 0, 0, 0, 0, 0, 0, 0, 1, 0, 0, 0, 0, 0, 0, 1, 0, 0, 1, 0, 0, 0, 0, 0, 0, 1, 0, 0, 0, 0, 1, 0, 0, 0, 0, 0, 0, 1, 0, 0, 0, 0, 0, 1, 0, 0, 1, 0, 0, 0, 0, 0, 0, 0, 0, 1, 1, 0, 0, 0, 0, 0, 0, 0, 0, 1, 0, 0, 0, 0, 0, 0, 0, 0, 0, 0, 1, 0, 0, 0, 0, 1, 0, 0, 0, 0, 0, 0, 1, 0, 1, 0, 0, 0, 0, 0, 0, 1, 0, 0, 0, 0, 0, 1, 1, 0, 0, 0, 0, 0, 0, 0, 0, 0, 0, 0, 0, 0, 1, 0, 0, 1, 0, 0, 0, 1, 0, 0, 1, 0, 0, 0, 0, 0, 0, 0, 0, 0, 0, 0, 0, 0, 0, 0, 0, 1, 1, 0, 0, 0, 0, 0, 0, 0, 1, 0, 0, 0, 0, 1, 0, 0, 0, 0, 0, 1, 0, 0, 0, 0, 0, 0, 1, 0, 0, 0, 0, 0, 1, 0, 0, 0, 0, 1, 0, 0, 0, 0, 1, 0, 0, 1, 0, 0, 0, 0, 0, 0, 0, 0, 0, 1, 0, 0, 0, 0, 0, 0, 1, 0, 0, 0, 0, 0, 0, 0, 0, 0, 1, 1, 0, 1, 0, 0, 0, 0, 0, 0, 0, 0, 0, 0, 1, 1, 0, 0, 0, 0, 0, 0, 1, 0, 0, 0, 0, 1, 0, 0, 0, 0, 0, 0, 0, 0, 0, 0, 1, 0, 0, 0, 0, 0, 0, 0, 0, 0, 0, 1, 1, 1, 0, 0, 0, 0, 0, 0, 0, 0, 1, 0, 0, 0, 1, 0, 0, 0, 0, 0, 0, 0, 0, 1, 0, 0, 0, 0, 1, 0, 0, 0, 0, 0, 0, 1, 0, 0, 0, 0, 0, 0, 0, 0, 0, 0, 1, 1, 0, 0, 0, 0, 1, 1, 0, 0, 0, 0, 0, 0, 0, 0, 0, 0, 0, 0, 1, 0, 0, 0, 0, 1, 0, 1, 0, 0, 0, 0, 0, 0, 1, 0, 0, 0, 0, 0, 0, 0, 0, 0, 0, 0, 1, 0, 0, 1, 0, 0, 0, 1, 1, 0, 0, 0, 0, 0, 0, 0, 0, 0, 0, 0, 0, 1, 0, 0, 1, 0, 0, 0, 0, 0, 0, 1, 1, 0, 0, 0, 0, 0, 0, 0, 0, 0, 0, 0, 1, 1, 0, 0, 0, 0, 0, 0, 0, 0, 0, 0, 0, 0, 0, 1, 1, 0, 0, 0, 0, 0, 0, 1, 0, 0, 0, 0, 0, 0, 0, 0, 1, 0, 0, 1, 0, 0, 0, 0, 0, 0, 0, 0, 1, 0, 0, 0, 0, 0, 0, 0, 0, 1, 0, 0, 1, 0, 0, 0, 1, 0, 0, 1, 0, 0, 0, 0, 0, 0, 0, 0, 0, 0, 0, 0, 1, 0, 0, 1, 0, 0, 0, 0, 1, 0, 0, 0, 0, 1, 0, 0, 0, 1, 1, 0, 0, 0, 0, 0, 0, 0, 0, 0, 0, 0, 0, 0, 0, 0, 0, 0, 0, 1, 1, 0, 0, 0, 0, 0, 0, 1, 1, 0, 0, 0, 0, 0, 0, 0, 0, 0, 0, 1, 0, 0, 0, 0, 0, 0, 1, 0, 0, 0, 0, 0, 1, 1, 0, 0, 0, 0, 0, 0, 1, 1, 0, 0, 0, 0, 0, 0, 0, 0, 0, 0, 0, 1, 0, 0, 0, 0, 0, 0, 0, 0, 1, 0, 0, 0, 0, 0, 0, 0, 0, 1, 0, 0, 1, 0, 0, 1, 0, 0, 0, 0, 0, 0, 0, 0, 1, 1, 0, 0, 0, 0, 0, 0, 0, 0, 1, 0, 0, 0, 0, 0, 0, 0, 0, 0, 1, 0, 0, 1, 0, 0, 0, 0, 0, 0, 0, 1, 0, 0, 1, 0, 0, 1, 0, 0, 1, 0, 0, 0, 0, 0, 0, 0, 0, 0, 0, 0, 0, 0, 0, 0, 0, 1, 1, 0, 0, 0, 0, 0, 0, 0, 1, 1, 0, 0, 0, 0, 0, 0, 0, 0, 1, 0, 0, 1, 0, 0, 0, 0, 0, 0, 1, 0, 0, 0, 0, 1, 0, 0, 0, 0, 0, 0, 0, 0, 0, 1, 0, 0, 0, 0, 0, 0, 1, 0, 0, 0, 0, 0, 1, 0, 0, 0, 0, 1, 0, 0, 0, 0, 1, 0, 0, 0, 0, 1, 0, 0, 0, 1, 0, 0, 1, 0, 0, 0, 0, 0, 0, 0, 0, 0, 0, 0, 0, 0, 1, 1, 0, 0, 0, 0, 0, 0, 1, 0, 0, 0, 0, 0, 0, 1, 0, 0, 0, 0, 0, 0, 0, 0, 0, 1, 0, 0, 1, 0, 0, 0, 0, 0, 0, 0, 0, 1, 0, 0, 1, 0, 0, 1, 1, 0, 0, 0, 0, 0, 0, 0, 0, 0, 0, 1, 0, 0, 0, 0, 1, 0, 0, 0, 0, 0, 0, 0, 1, 0, 0, 0, 0, 0, 0, 0, 0, 1, 0, 1, 0, 0, 0, 0, 0, 0, 0, 0, 0, 0, 1, 0, 0, 0, 0, 1, 0, 0, 0, 0, 0, 0, 1, 0, 0, 0, 0, 0, 1, 0, 0, 1, 0, 0, 0, 0, 0, 0, 1, 1, 0, 0, 0, 0, 0, 0, 0, 0, 0, 0, 0, 1, 0, 0, 0, 0, 0, 0, 1, 0, 0, 0, 1, 1, 0, 0, 0, 0, 0, 0, 0, 0, 0, 1, 0, 0, 0, 0, 0, 0, 0, 0, 1, 0, 0, 0, 0, 0, 0, 0, 0, 1, 1, 0, 0, 0, 0, 0, 0, 0, 0, 1, 1, 0, 0, 0, 0, 0, 0, 1, 0, 0, 0, 0, 0, 0, 1, 0, 0, 0, 0, 0, 1, 1, 0, 0, 0, 0, 0, 0, 0, 0, 0, 1, 0, 0, 0, 0, 0, 0, 1, 0, 0, 0, 0, 0, 0, 0, 0, 1, 0, 0, 0, 0, 1, 0, 0, 1, 0, 0, 0, 0, 1, 0, 0, 0, 0, 0, 0, 0, 0, 0, 0, 1, 1, 0, 0, 0, 0, 0, 0, 0, 0, 0, 0, 1, 1, 0, 0, 0, 0, 0, 0, 0, 0, 0, 1, 0, 0, 0, 0, 1, 0, 0, 0, 0, 0, 1, 0, 0, 0, 0, 0, 0, 1, 0, 0, 0, 1, 0, 0, 0, 0, 0, 0, 1, 0, 0, 1, 0, 0, 0, 0, 1, 0, 0, 0, 0, 0, 1, 0, 0, 0, 0, 0, 0, 1, 0, 0, 0, 0, 0, 0, 1, 0, 0, 0, 0, 1, 0, 0, 0, 0, 0, 0, 0, 0, 0, 0, 0, 0, 1, 1, 0, 0, 0, 0, 0, 0, 1, 0, 0, 0, 0, 0, 0, 1, 0, 0, 0, 0, 0, 0, 0, 0, 0, 0, 1, 1, 0, 0, 0, 1, 0, 0, 0, 0, 0, 0, 1, 0, 1, 0, 0, 0, 0, 0, 0, 0, 0, 1, 0, 0, 0, 0, 0, 0, 0, 0, 0, 0, 1, 0, 0, 1, 0, 0, 0, 0, 0, 0, 1, 1, 0, 0, 0, 0, 0, 0, 1, 0, 0, 0, 0, 0, 0, 0, 0, 1, 0, 0, 0, 0, 0, 0, 0, 1, 1, 0, 0, 0, 0, 1, 0, 0, 0, 0, 0, 0, 0, 0, 1, 0, 1, 0, 0, 0, 0, 0, 0, 0, 0, 1, 0, 0, 1, 0, 0, 0, 0, 0, 0, 0, 0, 0, 0, 1, 0, 0, 0, 0, 0, 0, 0, 0, 0, 1, 1, 0, 0, 0, 1, 0, 0, 1, 0, 0, 0, 0, 0, 0, 0, 0, 0, 0, 1, 1, 0, 0, 0, 0, 0, 0, 0, 0, 0, 1, 1, 0, 0, 0, 0, 0, 0, 0, 1, 1, 0, 0, 0, 0, 0, 0, 0, 0, 0, 0, 0, 0, 0, 0, 1, 0, 0, 0, 0, 0, 0, 1, 0, 0, 0, 0, 1, 0, 0, 1, 0, 0, 0, 0, 0, 0, 0, 0, 0, 0, 0, 0, 0, 0, 1, 1, 0, 0, 1, 1, 0, 0, 0, 0, 0, 0, 0, 0, 0, 0, 1, 0, 0, 1, 0, 0, 0, 0, 0, 0, 0, 0, 0, 0, 0, 0, 1, 0, 0, 1]\n"
          ],
          "name": "stdout"
        }
      ]
    },
    {
      "cell_type": "code",
      "metadata": {
        "colab": {
          "base_uri": "https://localhost:8080/"
        },
        "id": "HqbKwICO5_au",
        "outputId": "e244bd74-6fe4-4f33-8fea-9569cc719552"
      },
      "source": [
        "def standardize_data(arr):\n",
        "         \n",
        "    '''\n",
        "    This function standardize an array, its substracts mean value, \n",
        "    and then divide the standard deviation.\n",
        "    \n",
        "    param 1: array \n",
        "    return: standardized array\n",
        "    '''    \n",
        "    rows, columns = arr.shape\n",
        "    \n",
        "    standardizedArray = np.zeros(shape=(rows, columns)) \n",
        "    tempArray = np.zeros(rows)  \n",
        "    \n",
        "    for column in tqdm(range(columns)):\n",
        "        \n",
        "        # print(column)\n",
        "        mean = np.mean(X[:,column]) #mean of channel\n",
        "        std = np.std(X[:,column]) #std of channel\n",
        "        tempArray = np.empty(0)\n",
        "        \n",
        "        for element in X[:,column]: \n",
        "            \n",
        "            tempArray = np.append(tempArray, ((element - mean) / std)) #row val - mean/std = mean of 0, STD of 1\n",
        " \n",
        "        standardizedArray[:,column] = tempArray\n",
        "    \n",
        "    return standardizedArray\n",
        "\n",
        "PCA_test = []\n",
        "\n",
        "# Standardizing data\n",
        "X = test_data.reshape(len(test_data)*8, 175) #flatten axis for standardizing\n",
        "X = standardize_data(X).reshape(-1, 8, 175)\n",
        "# print(X.shape)\n",
        "\n",
        "for batch in tqdm(X):\n",
        "  # Calculating the covariance matrix\n",
        "  covariance_matrix = np.cov(batch.T)\n",
        "  # print(covariance_matrix)\n",
        "\n",
        "  # Using np.linalg.eig function\n",
        "  eigen_values, eigen_vectors = np.linalg.eig(covariance_matrix)\n",
        "  # print(\"Eigenvector: \\n\",eigen_vectors,\"\\n\")\n",
        "  # print(\"Eigenvalues: \\n\", eigen_values, \"\\n\")\n",
        "\n",
        "# Calculating the explained variance on each of components\n",
        "  variance_explained = []\n",
        "  for i in eigen_values:\n",
        "      variance_explained.append((i/sum(eigen_values))*100)\n",
        "        \n",
        "  # print(variance_explained)\n",
        "\n",
        "# Identifying components that explain at least 95%\n",
        "\n",
        "  cumulative_variance_explained = np.cumsum(variance_explained)\n",
        "  # print(cumulative_variance_explained)\n",
        "\n",
        "# Using two first components (because those explain more than 95%)\n",
        "  projection_matrix = (eigen_vectors.T[:][:60]).T\n",
        "  # print(projection_matrix)\n",
        "\n",
        "# Getting the product of original standardized X and the eigenvectors \n",
        "  batch_pca = batch.dot(projection_matrix)\n",
        "  PCA_test.append(batch_pca)\n",
        "\n",
        "# print(PCA_array)\n",
        "PCA_test = np.array(PCA_test).real\n",
        "print(PCA_test.shape)\n",
        "with open(f\"PCA_test.pkl\", \"wb\") as outfile:\n",
        "  pickle.dump(PCA_test, outfile)\n"
      ],
      "execution_count": null,
      "outputs": [
        {
          "output_type": "stream",
          "text": [
            "100%|██████████| 175/175 [01:09<00:00,  2.51it/s]\n",
            "100%|██████████| 4198/4198 [03:55<00:00, 17.85it/s]\n"
          ],
          "name": "stderr"
        },
        {
          "output_type": "stream",
          "text": [
            "(4198, 8, 60)\n"
          ],
          "name": "stdout"
        }
      ]
    },
    {
      "cell_type": "code",
      "metadata": {
        "colab": {
          "base_uri": "https://localhost:8080/"
        },
        "id": "Ejx4etKk-cMw",
        "outputId": "ca10c0d8-424a-4724-ac39-f0d3a5f44186"
      },
      "source": [
        "with open(\"PCA_test.pkl\", \"rb\") as infile:\n",
        "    PCA_test = pickle.load(infile) \n",
        "\n",
        "print(PCA_test.shape) "
      ],
      "execution_count": null,
      "outputs": [
        {
          "output_type": "stream",
          "text": [
            "(4198, 8, 60)\n"
          ],
          "name": "stdout"
        }
      ]
    },
    {
      "cell_type": "code",
      "metadata": {
        "colab": {
          "base_uri": "https://localhost:8080/"
        },
        "id": "JgVJE6tB_jgp",
        "outputId": "45bf70de-90f5-4ba8-beb1-99bd0270572b"
      },
      "source": [
        "PCA_test = PCA_test.reshape(4198, 8, 60, 1)\n",
        "\n",
        "test_loss, test_acc = model.evaluate(PCA_test, test_labels, verbose=2)\n",
        "y_pred = np.argmax(model.predict(PCA_test), axis=-1) #argmax returns the indice with the value that produces max from function -> eg. armax([0.9, 0.1]) returns 0\n",
        "print(str(y_pred[:100])+'\\n')\n",
        "print(test_labels[:100]) #TRY ARGMAX\n",
        "\n"
      ],
      "execution_count": null,
      "outputs": [
        {
          "output_type": "stream",
          "text": [
            "132/132 - 0s - loss: 0.7624 - accuracy: 0.7323\n",
            "[1 1 0 1 0 0 1 0 0 0 0 0 0 0 0 0 0 0 0 0 1 0 0 1 0 0 1 0 0 1 1 0 1 0 0 0 0\n",
            " 0 1 1 0 1 1 1 0 0 0 0 0 0 0 0 0 1 0 0 0 0 0 0 0 0 0 0 0 0 0 0 0 0 1 0 0 0\n",
            " 0 1 0 1 1 0 0 0 0 1 0 0 0 0 0 1 0 0 0 0 0 0 0 1 1 1]\n",
            "\n",
            "[0 0 0 1 0 0 0 0 0 0 1 0 0 0 0 0 1 1 0 0 0 0 0 0 0 1 0 0 0 0 0 0 1 0 0 0 0\n",
            " 0 0 0 0 0 1 0 0 1 0 0 0 0 0 0 0 0 0 1 0 0 1 0 0 0 0 1 0 0 0 0 0 0 1 0 1 0\n",
            " 0 0 0 1 0 0 0 0 0 0 0 0 0 0 1 0 0 0 0 1 0 0 1 0 0 0]\n"
          ],
          "name": "stdout"
        }
      ]
    },
    {
      "cell_type": "code",
      "metadata": {
        "colab": {
          "base_uri": "https://localhost:8080/"
        },
        "id": "zYQ5YY5gw7eQ",
        "outputId": "14761aa0-e6b6-4e7d-d58d-a77d055846a0"
      },
      "source": [
        "#                         1    2    3    4    5    6\n",
        "char_matrix = np.array([['A', 'B', 'C', 'D', 'E', 'F'], # 7\n",
        "                        ['G', 'H', 'I', 'J', 'K', 'L'], # 8\n",
        "                        ['M', 'N', 'O', 'P', 'Q', 'R'], # 9\n",
        "                        ['S', 'T', 'U', 'V', 'W', 'X'], # 10\n",
        "                        ['Y', 'Z', '1', '2', '3', '4'], # 11\n",
        "                        ['5', '6', '7', '8', '9', '0']])# 12\n",
        "\n",
        "print(char_matrix.shape)\n"
      ],
      "execution_count": null,
      "outputs": [
        {
          "output_type": "stream",
          "text": [
            "(6, 6)\n"
          ],
          "name": "stdout"
        }
      ]
    },
    {
      "cell_type": "code",
      "metadata": {
        "id": "SHGjBE4UK8r-"
      },
      "source": [
        "#decoder to-do\n",
        "#for every 120 indices in decode array calculate the x, y coordinates with the highest activations\n",
        "#try using confidences as a metric to improve accuracy \n",
        "import collections\n",
        "\n",
        "def decode(y_pred, stim):\n",
        "  words = []\n",
        "  decode_array = np.array([y_pred, stim]).T\n",
        "  new_decode = np.array([decode_array[i:i+120] for i in range(0, len(decode_array), 120)], dtype=object)\n",
        "\n",
        "  for letter in new_decode:\n",
        "    col_count = []\n",
        "    row_count = []\n",
        "    for flash in letter:\n",
        "      if flash[0] == 1:\n",
        "        if flash[1] > 6 and flash[1] <= 12:\n",
        "          col_count.append(flash[1])\n",
        "        if flash[1] <= 6:\n",
        "          row_count.append(flash[1])\n",
        "          \n",
        "    # print(collections.Counter(col_count))\n",
        "\n",
        "    y = max(collections.Counter(col_count), key=collections.Counter(col_count).get)\n",
        "    x = max(collections.Counter(row_count), key=collections.Counter(row_count).get)\n",
        "    words.append(char_matrix[x-1, y-7])\n",
        "\n",
        "  return words\n",
        "\n",
        "  "
      ],
      "execution_count": null,
      "outputs": []
    },
    {
      "cell_type": "code",
      "metadata": {
        "colab": {
          "base_uri": "https://localhost:8080/"
        },
        "id": "hIvhkCxf2hRB",
        "outputId": "6d4891bf-a536-4f68-cd0a-3ac62cdce2a9"
      },
      "source": [
        "predictions = decode(y_pred, test_stim)\n",
        "answers = decode(test_labels, test_stim)\n",
        "print(answers)\n",
        "print(predictions)"
      ],
      "execution_count": null,
      "outputs": [
        {
          "output_type": "stream",
          "text": [
            "['T', 'O', 'K', 'E', 'N', 'M', 'I', 'R', 'A', 'R', 'J', 'U', 'J', 'U', 'Y', 'M', 'A', 'N', 'S', 'O', 'C', 'I', 'N', 'C', 'O', 'J', 'U', 'E', 'G', 'O', 'Q', 'U', 'E', 'S', 'O']\n",
            "['E', 'P', 'A', 'F', 'Q', 'O', 'I', 'Z', 'C', 'Q', 'V', 'K', 'G', '2', 'M', 'P', 'Y', 'N', 'Z', 'S', '0', 'Q', 'F', 'X', 'F', 'Q', 'Y', 'Z', '8', 'Z', 'G', '1', 'I', 'Z', 'U']\n"
          ],
          "name": "stdout"
        }
      ]
    },
    {
      "cell_type": "code",
      "metadata": {
        "colab": {
          "base_uri": "https://localhost:8080/",
          "height": 312
        },
        "id": "P4oHlWMf8vD0",
        "outputId": "94fbc2bc-7e35-455b-b2e7-31461d120626"
      },
      "source": [
        "from sklearn.metrics import confusion_matrix\n",
        "\n",
        "import matplotlib.pyplot as plt\n",
        "import numpy as np\n",
        "\n",
        "cm = confusion_matrix(test_labels, y_pred)\n",
        "print(cm)\n",
        "# or\n",
        "#cm = np.array([[1401,    0],[1112, 0]])\n",
        "\n",
        "plt.imshow(cm, cmap=plt.cm.Blues)\n",
        "plt.xlabel(\"Predicted labels\")\n",
        "plt.ylabel(\"True labels\")\n",
        "plt.xticks([], [])\n",
        "plt.yticks([], [])\n",
        "plt.title('Confusion matrix ')\n",
        "plt.colorbar()\n",
        "plt.show()"
      ],
      "execution_count": null,
      "outputs": [
        {
          "output_type": "stream",
          "text": [
            "[[2920  578]\n",
            " [ 546  154]]\n"
          ],
          "name": "stdout"
        },
        {
          "output_type": "display_data",
          "data": {
            "image/png": "[encoded data removed]",
            "text/plain": [
              "<Figure size 432x288 with 2 Axes>"
            ]
          },
          "metadata": {
            "tags": [],
            "needs_background": "light"
          }
        }
      ]
    },
    {
      "cell_type": "markdown",
      "metadata": {
        "id": "AowdkQ5POzE7"
      },
      "source": [
        "Without Padding\n"
      ]
    },
    {
      "cell_type": "code",
      "metadata": {
        "colab": {
          "base_uri": "https://localhost:8080/"
        },
        "id": "i5YXd0gzUwRE",
        "outputId": "abead9a0-4d76-4eb6-ba19-e51ca39e48da"
      },
      "source": [
        "ink = (5000, 8, 120, 1)\n",
        "ink = tf.random.normal(ink)\n",
        "print(ink.shape)\n",
        "PCA_train = PCA_train.reshape(504, 8, 120, 1)\n",
        "#l2\n",
        "L2 = Conv2D(20, (8, 1), activation=\"relu\", input_shape=(8, 120, 1))(PCA_train)\n",
        "print(L2.shape) #0th index: # of batches, 1st index: height of output, 2nd index: width of output, 3rd index: depth -> # of filters\n",
        "#l3\n",
        "L3_1 = Conv2D(filters=16, kernel_size=(1, 5), strides=5, activation=\"relu\", input_shape=(1, 120, 20))(L2)\n",
        "print(L3_1.shape)\n",
        "\n",
        "L3_2 = Conv2D(filters=16, kernel_size=(1, 10), strides=10, activation=\"relu\", input_shape=(1, 120, 20))(L2)\n",
        "print(L3_2.shape)\n",
        "\n",
        "L3_3 = Conv2D(filters=16, kernel_size=(1, 15), strides=15, activation=\"relu\", input_shape=(1, 120, 20))(L2)\n",
        "print(L3_3.shape)\n",
        "\n",
        "#L4\n",
        "concatted = concatenate([L3_1, L3_2, L3_3], axis=2) # merge the outputs of the two models\n",
        "print(concatted.shape)\n",
        "dp = tf.keras.layers.Dropout(.5)(concatted)\n",
        "print(dp.shape)\n",
        "\n",
        "#L5\n",
        "L5_1 = Conv2D(filters=16, kernel_size=(1, 2), strides=2, activation=\"relu\", input_shape=(1, 44, 16))(dp)\n",
        "print(L5_1.shape)\n",
        "\n",
        "L5_2 = Conv2D(filters=16, kernel_size=(1, 4), strides=4, activation=\"relu\", input_shape=(1, 44, 16))(dp)\n",
        "print(L5_2.shape)\n",
        "\n",
        "L5_3 = Conv2D(filters=16, kernel_size=(1, 11), strides=11, activation=\"relu\", input_shape=(1, 44, 16))(dp)\n",
        "print(L5_3.shape)\n",
        "\n",
        "#L6\n",
        "concatted2 = concatenate([L5_1, L5_2, L5_3], axis=2) # merge the outputs of the two models\n",
        "print(concatted2.shape)\n",
        "dp2 = tf.keras.layers.Dropout(.5)(concatted2)\n",
        "print(dp2.shape)\n",
        "\n",
        "#L7\n",
        "mxpool = layers.MaxPooling2D((2, 2), strides=2)(dp2)\n",
        "print(mxpool.shape)\n",
        "\n",
        "#L8 \n",
        "flat = layers.Flatten()(mxpool)\n",
        "dense = layers.Dense(100, activation='relu')(flat)\n",
        "dense2 = layers.Dense(2, activation='relu')(flat)\n",
        "print(dense.shape)\n",
        "print(dense2.shape)\n",
        "\n",
        "#L9\n",
        "sftymax = layers.Softmax(axis=1)(dense2)\n",
        "print(sftymax)"
      ],
      "execution_count": null,
      "outputs": [
        {
          "output_type": "stream",
          "text": [
            "(5000, 8, 120, 1)\n",
            "(504, 1, 120, 20)\n",
            "(504, 1, 24, 16)\n",
            "(504, 1, 12, 16)\n",
            "(504, 1, 8, 16)\n",
            "(504, 1, 44, 16)\n",
            "(504, 1, 44, 16)\n",
            "(504, 1, 22, 16)\n",
            "(504, 1, 11, 16)\n",
            "(504, 1, 4, 16)\n",
            "(504, 1, 37, 16)\n",
            "(504, 1, 37, 16)\n",
            "(504, 0, 18, 16)\n",
            "(504, 100)\n",
            "(504, 2)\n",
            "tf.Tensor(\n",
            "[[0.5 0.5]\n",
            " [0.5 0.5]\n",
            " [0.5 0.5]\n",
            " ...\n",
            " [0.5 0.5]\n",
            " [0.5 0.5]\n",
            " [0.5 0.5]], shape=(504, 2), dtype=float32)\n"
          ],
          "name": "stdout"
        }
      ]
    },
    {
      "cell_type": "markdown",
      "metadata": {
        "id": "MFoUruewOvEr"
      },
      "source": [
        "With Padding\n"
      ]
    },
    {
      "cell_type": "code",
      "metadata": {
        "colab": {
          "base_uri": "https://localhost:8080/"
        },
        "id": "XTJdMWLYLiiU",
        "outputId": "a92eea65-ffe0-4ff7-d323-05996f260ffd"
      },
      "source": [
        "ink = (5000, 8, 60, 1)\n",
        "ink = tf.random.normal(ink)\n",
        "print(ink.shape)\n",
        "\n",
        "#l2\n",
        "L2 = Conv2D(20, (8, 1), activation=\"relu\", strides=(8, 1), padding=\"same\", input_shape=(8, 60, 1))(ink)\n",
        "print(L2.shape) #0th index: # of batches, 1st index: height of output, 2nd index: width of output, 3rd index: depth -> # of filters\n",
        "#L3\n",
        "L3_1 = Conv2D(filters=16, kernel_size=(1, 5), strides=(1, 5), padding=\"same\", activation=\"relu\")(L2)\n",
        "print(L3_1.shape)\n",
        "\n",
        "L3_2 = Conv2D(filters=16, kernel_size=(1, 10), strides=(1, 10), padding=\"same\", activation=\"relu\")(L2)\n",
        "print(L3_2.shape)\n",
        "\n",
        "L3_3 = Conv2D(filters=16, kernel_size=(1, 15), strides=(1, 15), padding=\"same\", activation=\"relu\")(L2)\n",
        "print(L3_3.shape)\n",
        "\n",
        "#L4\n",
        "concatted = concatenate([L3_1, L3_2, L3_3], axis=2) # merge the outputs of the two models\n",
        "print(concatted.shape)\n",
        "dp = tf.keras.layers.Dropout(.5)(concatted)\n",
        "print(dp.shape)\n",
        "\n",
        "# #L5\n",
        "# L5_1 = Conv2D(filters=16, kernel_size=(1, 2), strides=(1, 2), padding=\"same\", activation=\"relu\", input_shape=(1, 44, 16))(dp)\n",
        "# print(L5_1.shape)\n",
        "\n",
        "# L5_2 = Conv2D(filters=16, kernel_size=(1, 4), strides=(1, 4), padding=\"same\", activation=\"relu\", input_shape=(1, 44, 16))(dp)\n",
        "# print(L5_2.shape)\n",
        "\n",
        "# L5_3 = Conv2D(filters=16, kernel_size=(1, 11), strides=(1, 11), padding=\"same\", activation=\"relu\", input_shape=(1, 44, 16))(dp)\n",
        "# print(L5_3.shape)\n",
        "\n",
        "# #L6\n",
        "# concatted2 = concatenate([L5_1, L5_2, L5_3], axis=2) # merge the outputs of the two models\n",
        "# print(concatted2.shape)\n",
        "# dp2 = tf.keras.layers.Dropout(.5)(concatted2)\n",
        "# print(dp2.shape)\n",
        "\n",
        "# #L7\n",
        "# mxpool = layers.MaxPooling2D((2, 2), strides=2)(dp2)\n",
        "# print(mxpool.shape)\n",
        "\n",
        "# #L8 \n",
        "# flat = layers.Flatten()(mxpool)\n",
        "# dense = layers.Dense(100, activation='relu')(flat)\n",
        "# dense2 = layers.Dense(2, activation='relu')(flat)\n",
        "# print(dense.shape)\n",
        "# print(dense2.shape)\n",
        "\n",
        "# #L9\n",
        "# sftymax = layers.Softmax(axis=1)(dense2)\n",
        "# print(sftymax)"
      ],
      "execution_count": null,
      "outputs": [
        {
          "output_type": "stream",
          "text": [
            "(5000, 8, 60, 1)\n",
            "(5000, 1, 60, 20)\n",
            "(5000, 1, 12, 16)\n",
            "(5000, 1, 6, 16)\n",
            "(5000, 1, 4, 16)\n",
            "(5000, 1, 22, 16)\n",
            "(5000, 1, 22, 16)\n"
          ],
          "name": "stdout"
        }
      ]
    }
  ]
}